{
 "cells": [
  {
   "cell_type": "markdown",
   "metadata": {},
   "source": [
    "# App y __name__"
   ]
  },
  {
   "cell_type": "code",
   "execution_count": null,
   "metadata": {},
   "outputs": [],
   "source": [
    "import app"
   ]
  },
  {
   "cell_type": "code",
   "execution_count": 2,
   "metadata": {},
   "outputs": [
    {
     "data": {
      "text/plain": [
       "<function app.hello_world()>"
      ]
     },
     "execution_count": 2,
     "metadata": {},
     "output_type": "execute_result"
    }
   ],
   "source": [
    "app.hello_world"
   ]
  },
  {
   "cell_type": "code",
   "execution_count": 3,
   "metadata": {},
   "outputs": [
    {
     "name": "stdout",
     "output_type": "stream",
     "text": [
      "Hello World\n",
      "La variable __name__ tien el valor de app\n"
     ]
    }
   ],
   "source": [
    "app.hello_world()"
   ]
  },
  {
   "cell_type": "code",
   "execution_count": 4,
   "metadata": {},
   "outputs": [
    {
     "data": {
      "text/plain": [
       "'app'"
      ]
     },
     "execution_count": 4,
     "metadata": {},
     "output_type": "execute_result"
    }
   ],
   "source": [
    "app.__name__"
   ]
  },
  {
   "cell_type": "markdown",
   "metadata": {},
   "source": [
    "Si modificas el app.py las modificaciones no se veran reflejadas en este notebook hasta que reinicies el kernel/env (o utilices librerias especializadas). Incluso si vuelves a ejecutar la casilla de importar `import app`. Esto se debe a que python no vuelve importar el modulo si ya lo tiene importado (no revisa diferencias o cambios).  \n",
    "Sin embargo si el `import` fallo por alguna razon, y realizas la modificacion para que funcine si puedes importar esa nueva version, pues jamas fue importada por el error."
   ]
  },
  {
   "cell_type": "markdown",
   "metadata": {},
   "source": [
    "Si desean ver las modificaciones que realizaron a otros scripts sin recargar el kernel pueden usar `importlib`"
   ]
  },
  {
   "cell_type": "code",
   "execution_count": 24,
   "metadata": {},
   "outputs": [
    {
     "data": {
      "text/plain": [
       "<module 'app' from '/home/uumami/itam/fdd_o23/codigo/intro_python/app.py'>"
      ]
     },
     "execution_count": 24,
     "metadata": {},
     "output_type": "execute_result"
    }
   ],
   "source": [
    "import importlib\n",
    "importlib.reload(app)"
   ]
  },
  {
   "cell_type": "markdown",
   "metadata": {},
   "source": [
    "# OS"
   ]
  },
  {
   "cell_type": "code",
   "execution_count": null,
   "metadata": {},
   "outputs": [],
   "source": [
    "import os"
   ]
  },
  {
   "cell_type": "markdown",
   "metadata": {},
   "source": [
    "Obtener el directorio de trabajo actual:"
   ]
  },
  {
   "cell_type": "code",
   "execution_count": 5,
   "metadata": {},
   "outputs": [
    {
     "name": "stdout",
     "output_type": "stream",
     "text": [
      "/home/uumami/itam/fdd_o23/codigo/intro_python\n"
     ]
    }
   ],
   "source": [
    "current_directory = os.getcwd()\n",
    "print(current_directory)"
   ]
  },
  {
   "cell_type": "markdown",
   "metadata": {},
   "source": [
    "Listar archivos y directorios en el directorio actual:"
   ]
  },
  {
   "cell_type": "code",
   "execution_count": 7,
   "metadata": {},
   "outputs": [
    {
     "name": "stdout",
     "output_type": "stream",
     "text": [
      "app.py\n",
      "__pycache__\n",
      "carpeta_vacia\n",
      "sandbox.ipynb\n"
     ]
    }
   ],
   "source": [
    "for filename in os.listdir('.'):\n",
    "    print(filename)"
   ]
  },
  {
   "cell_type": "markdown",
   "metadata": {},
   "source": [
    "Verificar si una ruta es un archivo o un directorio:"
   ]
  },
  {
   "cell_type": "code",
   "execution_count": 9,
   "metadata": {},
   "outputs": [
    {
     "name": "stdout",
     "output_type": "stream",
     "text": [
      "app.py It is a file!\n",
      "__pycache__ It is a directory!\n",
      "carpeta_vacia It is a directory!\n",
      "sandbox.ipynb It is a file!\n"
     ]
    }
   ],
   "source": [
    "for f in os.listdir('.'):\n",
    "    if os.path.isfile(f):\n",
    "        print(f'{f} It is a file!')\n",
    "    elif os.path.isdir(f):\n",
    "        print(f'{f} It is a directory!')"
   ]
  },
  {
   "cell_type": "markdown",
   "metadata": {},
   "source": [
    "Join dos paths"
   ]
  },
  {
   "cell_type": "code",
   "execution_count": 16,
   "metadata": {},
   "outputs": [
    {
     "name": "stdout",
     "output_type": "stream",
     "text": [
      "carpeta_vacia/.gitkeep\n"
     ]
    },
    {
     "data": {
      "text/plain": [
       "True"
      ]
     },
     "execution_count": 16,
     "metadata": {},
     "output_type": "execute_result"
    }
   ],
   "source": [
    "f = os.path.join('carpeta_vacia','.gitkeep')\n",
    "print(f)\n",
    "os.path.isfile(f)"
   ]
  },
  {
   "cell_type": "markdown",
   "metadata": {},
   "source": [
    "Obtener el path absoluto a un folder o un file con join"
   ]
  },
  {
   "cell_type": "code",
   "execution_count": 12,
   "metadata": {},
   "outputs": [
    {
     "data": {
      "text/plain": [
       "['/home/uumami/itam/fdd_o23/codigo/intro_python/app.py',\n",
       " '/home/uumami/itam/fdd_o23/codigo/intro_python/__pycache__',\n",
       " '/home/uumami/itam/fdd_o23/codigo/intro_python/carpeta_vacia',\n",
       " '/home/uumami/itam/fdd_o23/codigo/intro_python/sandbox.ipynb']"
      ]
     },
     "execution_count": 12,
     "metadata": {},
     "output_type": "execute_result"
    }
   ],
   "source": [
    "[os.path.join(os.getcwd(),f) for f in os.listdir('.')]"
   ]
  },
  {
   "cell_type": "markdown",
   "metadata": {},
   "source": [
    "Ejercicio obtener paths absolutos a los files (no directorios) usando listas comprensica `[i for i in ...]` con las funciones que hemos visto"
   ]
  },
  {
   "cell_type": "code",
   "execution_count": null,
   "metadata": {},
   "outputs": [],
   "source": [
    "[]"
   ]
  },
  {
   "cell_type": "markdown",
   "metadata": {},
   "source": [
    "Crear directorios"
   ]
  },
  {
   "cell_type": "code",
   "execution_count": 13,
   "metadata": {},
   "outputs": [],
   "source": [
    "os.makedirs('empty_dir', exist_ok=True) # exists_ok=False regresara error si el folder existe"
   ]
  },
  {
   "cell_type": "markdown",
   "metadata": {},
   "source": [
    "Obtener variables de entorno:"
   ]
  },
  {
   "cell_type": "code",
   "execution_count": 17,
   "metadata": {},
   "outputs": [
    {
     "name": "stdout",
     "output_type": "stream",
     "text": [
      "uumami\n"
     ]
    }
   ],
   "source": [
    "path_variable = os.environ.get('USER')\n",
    "print(path_variable)\n"
   ]
  },
  {
   "cell_type": "markdown",
   "metadata": {},
   "source": [
    "Dividir la ruta de un archivo en la ruta y el nombre del archivo:"
   ]
  },
  {
   "cell_type": "code",
   "execution_count": 18,
   "metadata": {},
   "outputs": [
    {
     "name": "stdout",
     "output_type": "stream",
     "text": [
      "/path/to\n",
      "file.txt\n"
     ]
    }
   ],
   "source": [
    "directory, filename = os.path.split('/path/to/file.txt')\n",
    "print(directory)  # Output: '/path/to'\n",
    "print(filename)   # Output: 'file.txt'"
   ]
  },
  {
   "cell_type": "markdown",
   "metadata": {},
   "source": [
    "Obtener el nombre del archivo"
   ]
  },
  {
   "cell_type": "code",
   "execution_count": 19,
   "metadata": {},
   "outputs": [
    {
     "data": {
      "text/plain": [
       "'file.txt'"
      ]
     },
     "execution_count": 19,
     "metadata": {},
     "output_type": "execute_result"
    }
   ],
   "source": [
    "os.path.basename('/path/to/file.txt')"
   ]
  },
  {
   "cell_type": "markdown",
   "metadata": {},
   "source": [
    "Verificar si una ruta específica existe:"
   ]
  },
  {
   "cell_type": "code",
   "execution_count": 23,
   "metadata": {},
   "outputs": [
    {
     "name": "stdout",
     "output_type": "stream",
     "text": [
      "It exists!\n"
     ]
    }
   ],
   "source": [
    "if os.path.exists('carpeta_vacia/.gitkeep'):\n",
    "    print('It exists!')"
   ]
  },
  {
   "cell_type": "markdown",
   "metadata": {},
   "source": [
    "# Clases"
   ]
  },
  {
   "cell_type": "markdown",
   "metadata": {},
   "source": [
    "## Clase base"
   ]
  },
  {
   "cell_type": "code",
   "execution_count": 42,
   "metadata": {},
   "outputs": [],
   "source": [
    "class Persona:\n",
    "    def __init__(self, nombre, edad):  # Constructor de la clase\n",
    "        self.nombre = nombre\n",
    "        self.edad = edad\n",
    "\n",
    "    def mostrar_informacion(self):\n",
    "        \"\"\"Muestra la información de la persona.\"\"\"\n",
    "        print(f\"Nombre: {self.nombre}\")\n",
    "        print(f\"Edad: {self.edad}\")\n",
    "\n",
    "    def cumplir_anos(self):\n",
    "        \"\"\"Incrementa la edad de la persona en 1 año.\"\"\"\n",
    "        self.edad += 1\n",
    "        print(f\"¡{self.nombre} ahora tiene {self.edad} años!\")"
   ]
  },
  {
   "cell_type": "code",
   "execution_count": 55,
   "metadata": {},
   "outputs": [
    {
     "name": "stdout",
     "output_type": "stream",
     "text": [
      "Nombre: Juan\n",
      "Edad: 25\n",
      "¡Juan ahora tiene 26 años!\n",
      "Nombre: Ana\n",
      "Edad: 23\n"
     ]
    }
   ],
   "source": [
    "# Crear una instancia de la clase Persona\n",
    "persona1 = Persona(\"Juan\", 25)\n",
    "\n",
    "# Usar métodos de la clase\n",
    "persona1.mostrar_informacion()\n",
    "persona1.cumplir_anos()\n",
    "\n",
    "# Crear otra instancia de la clase Persona\n",
    "persona2 = Persona(\"Ana\", 23)\n",
    "persona2.mostrar_informacion()"
   ]
  },
  {
   "cell_type": "markdown",
   "metadata": {},
   "source": [
    "La clase `Persona`` define una \"plantilla\" para crear objetos de tipo Persona.\n",
    "\n",
    "El método `__init__` es un constructor especial que se llama cuando creas una nueva instancia de la clase. Los valores pasados al constructor (nombre y edad en este caso) se utilizan para inicializar las variables de instancia `self.nombre` y `self.edad`.\n",
    "\n",
    "Los métodos `mostrar_informacion` y `cumplir_anos` son funciones que actúan sobre los objetos de la clase `Persona` y pueden acceder o modificar sus atributos.\n",
    "\n",
    "La palabra clave self hace referencia a la instancia específica de la clase y permite acceder a los atributos y métodos asociados con esa instancia.\n",
    "\n",
    "Este es un ejemplo básico. Las clases en Python pueden tener mucha más funcionalidad, incluyendo herencia, métodos estáticos, métodos de clase, decoradores y mucho más.\n"
   ]
  },
  {
   "cell_type": "markdown",
   "metadata": {},
   "source": [
    "### Atributos"
   ]
  },
  {
   "cell_type": "markdown",
   "metadata": {},
   "source": [
    "Puedes acceder a los atributos del objeto utilizando la notacion de `.`"
   ]
  },
  {
   "cell_type": "code",
   "execution_count": 56,
   "metadata": {},
   "outputs": [
    {
     "name": "stdout",
     "output_type": "stream",
     "text": [
      "Juan\n",
      "23\n"
     ]
    }
   ],
   "source": [
    "print(persona1.nombre)\n",
    "print(persona2.edad)"
   ]
  },
  {
   "cell_type": "markdown",
   "metadata": {},
   "source": [
    "## Herencia"
   ]
  },
  {
   "cell_type": "markdown",
   "metadata": {},
   "source": [
    "La función `super()` en Python se utiliza para llamar a un método en una clase padre.\n",
    "\n",
    "A continuación, te presento un ejemplo en el que una clase Empleado hereda de la clase `Persona` y utiliza `super()` para invocar el constructor de la clase padre."
   ]
  },
  {
   "cell_type": "code",
   "execution_count": 50,
   "metadata": {},
   "outputs": [],
   "source": [
    "class Alumne(Persona):\n",
    "    def __init__(self, nombre, edad, cu):\n",
    "        super().__init__(nombre, edad)  # Llamar al constructor de la clase madre (Persona)\n",
    "        self.cu = cu\n",
    "\n",
    "    def mostrar_informacion(self):\n",
    "        super().mostrar_informacion()  # Llamar al método mostrar_informacion de la clase madre\n",
    "        print(f\"CU del Alumne: {self.cu}\")"
   ]
  },
  {
   "cell_type": "code",
   "execution_count": 51,
   "metadata": {},
   "outputs": [
    {
     "name": "stdout",
     "output_type": "stream",
     "text": [
      "Nombre: Luffy\n",
      "Edad: 19\n",
      "CU del Alumne: 547\n"
     ]
    }
   ],
   "source": [
    "alumne = Alumne('Luffy', 19, 547)\n",
    "alumne.mostrar_informacion()"
   ]
  },
  {
   "cell_type": "markdown",
   "metadata": {},
   "source": [
    "# Archivos"
   ]
  },
  {
   "cell_type": "markdown",
   "metadata": {},
   "source": [
    "## with"
   ]
  },
  {
   "cell_type": "markdown",
   "metadata": {},
   "source": [
    "El bloque with en Python es usado para simplificar la gestión de recursos, como archivos, conexiones de red, o bases de datos. Se utiliza en conjunto con objetos que soportan el protocolo de contexto, es decir, objetos que definen los métodos `__enter__()` y `__exit__()`. El propósito principal es asegurarse de que los recursos se limpien o se liberen correctamente, incluso si ocurren excepciones."
   ]
  },
  {
   "cell_type": "code",
   "execution_count": 36,
   "metadata": {},
   "outputs": [
    {
     "name": "stdout",
     "output_type": "stream",
     "text": [
      "Entrando al bloque with...\n",
      "¡Hola desde EjemploWith!\n",
      "Saliendo del bloque with...\n",
      "Fuera del bloque with.\n"
     ]
    }
   ],
   "source": [
    "class EjemploWith:\n",
    "\n",
    "    def __enter__(self):\n",
    "        print(\"Entrando al bloque with...\")\n",
    "        return self  # Este valor es asignado a la variable después de 'as'\n",
    "    \n",
    "    def __exit__(self, exc_type, exc_value, traceback):\n",
    "        print(\"Saliendo del bloque with...\")\n",
    "        # Si retorna True, cualquier excepción que ocurra en el bloque with será suprimida.\n",
    "        # Si retorna False, la excepción se propagará.\n",
    "        return False  \n",
    "    \n",
    "    def decir_hola(self):\n",
    "        print(\"¡Hola desde EjemploWith!\")\n",
    "\n",
    "# Usar nuestra clase con 'with'\n",
    "with EjemploWith() as ejemplo:\n",
    "    ejemplo.decir_hola()\n",
    "\n",
    "print(\"Fuera del bloque with.\")\n"
   ]
  },
  {
   "cell_type": "markdown",
   "metadata": {},
   "source": [
    "## Crear y escribir en un archivo de texto:"
   ]
  },
  {
   "cell_type": "markdown",
   "metadata": {},
   "source": [
    "El modo 'w' indica que el archivo se debe abrir en modo de escritura.  \n",
    "Si el archivo ya existe, su contenido se sobrescribirá. Si no existe, se creará."
   ]
  },
  {
   "cell_type": "code",
   "execution_count": 39,
   "metadata": {},
   "outputs": [],
   "source": [
    "# Crear (o abrir si ya existe) un archivo llamado 'mi_archivo.txt' y escribir en él\n",
    "with open('mi_archivo.txt', 'w') as file:\n",
    "    file.write(\"Hola, mundo!\\n\")   # Escribe la primera línea\n",
    "    file.write(\"Bienvenido a mi archivo de texto.\\n\")  # Escribe la segunda línea\n",
    "    file.write(\"¡Hasta luego!\\n\")  # Escribe la tercera línea"
   ]
  },
  {
   "cell_type": "code",
   "execution_count": 33,
   "metadata": {},
   "outputs": [
    {
     "name": "stdout",
     "output_type": "stream",
     "text": [
      "<_io.TextIOWrapper name='mi_archivo.txt' mode='w' encoding='UTF-8'>\n",
      "<_io.TextIOWrapper name='mi_archivo.txt' mode='w' encoding='UTF-8'>\n"
     ]
    }
   ],
   "source": [
    "with open('mi_archivo.txt', 'w') as file:\n",
    "    print(file)"
   ]
  },
  {
   "cell_type": "markdown",
   "metadata": {},
   "source": [
    "## Leer de un archivo de texto:"
   ]
  },
  {
   "cell_type": "markdown",
   "metadata": {},
   "source": [
    "El modo 'r' indica que el archivo se debe abrir en modo de lectura. Es el modo por defecto, así que también puedes omitirlo `open('mi_archivo.txt')` haría lo mismo."
   ]
  },
  {
   "cell_type": "code",
   "execution_count": 27,
   "metadata": {},
   "outputs": [
    {
     "name": "stdout",
     "output_type": "stream",
     "text": [
      "2222Hola, mundo!\n",
      "Bienvenido a mi archivo de texto.\n",
      "¡Hasta luego!\n",
      "\n"
     ]
    }
   ],
   "source": [
    "# Leer el contenido de 'mi_archivo.txt'\n",
    "with open('mi_archivo.txt', 'r') as file:\n",
    "    contenido = file.read()\n",
    "    print(contenido)"
   ]
  },
  {
   "cell_type": "markdown",
   "metadata": {},
   "source": [
    "Si quieres leer el archivo línea por línea, puedes hacerlo de la siguiente manera:"
   ]
  },
  {
   "cell_type": "code",
   "execution_count": 40,
   "metadata": {},
   "outputs": [
    {
     "name": "stdout",
     "output_type": "stream",
     "text": [
      "Hola, mundo!\n",
      "Bienvenido a mi archivo de texto.\n",
      "¡Hasta luego!\n"
     ]
    }
   ],
   "source": [
    "with open('mi_archivo.txt', 'r') as file:\n",
    "    for linea in file:\n",
    "        print(linea, end='')  # end='' evita las líneas en blanco adicionales al imprimir"
   ]
  },
  {
   "cell_type": "markdown",
   "metadata": {},
   "source": [
    "## Agregar contenido"
   ]
  },
  {
   "cell_type": "markdown",
   "metadata": {},
   "source": [
    "El modo `a` coloca el cursor al final del archivo antes de escribir, por lo que todo lo que escribas se añadirá después del contenido existente. Si el archivo no existe, se creará."
   ]
  },
  {
   "cell_type": "code",
   "execution_count": 41,
   "metadata": {},
   "outputs": [
    {
     "name": "stdout",
     "output_type": "stream",
     "text": [
      "Hola, mundo!\n",
      "Bienvenido a mi archivo de texto.\n",
      "¡Hasta luego!\n",
      "Esta es una línea adicional.\n",
      "Y esta es otra línea adicional.\n",
      "\n"
     ]
    }
   ],
   "source": [
    "with open('mi_archivo.txt', 'a') as file:\n",
    "    file.write(\"Esta es una línea adicional.\\n\")\n",
    "    file.write(\"Y esta es otra línea adicional.\\n\")\n",
    "    \n",
    "# Leer el contenido de 'mi_archivo.txt'\n",
    "with open('mi_archivo.txt', 'r') as file:\n",
    "    contenido = file.read()\n",
    "    print(contenido)\n"
   ]
  }
 ],
 "metadata": {
  "kernelspec": {
   "display_name": "itam",
   "language": "python",
   "name": "python3"
  },
  "language_info": {
   "codemirror_mode": {
    "name": "ipython",
    "version": 3
   },
   "file_extension": ".py",
   "mimetype": "text/x-python",
   "name": "python",
   "nbconvert_exporter": "python",
   "pygments_lexer": "ipython3",
   "version": "3.10.9"
  },
  "orig_nbformat": 4
 },
 "nbformat": 4,
 "nbformat_minor": 2
}
