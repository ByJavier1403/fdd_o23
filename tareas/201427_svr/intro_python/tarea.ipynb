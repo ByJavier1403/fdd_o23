{
 "cells": [
  {
   "cell_type": "markdown",
   "metadata": {},
   "source": [
    "Antes de hacer algo asegurate de hacer pull del repo de la clase, crear un nuevo branch, copiar esta carpeta a tu carepta de tareas y trabajar sobre ella.  \n",
    "Cuando acabes has git add, commit y pull request a los archivos que modificaste.  \n",
    "Valor de la tarea es de 20 puntos y se entrega el siguiente lunes por la mannana."
   ]
  },
  {
   "cell_type": "markdown",
   "metadata": {},
   "source": [
    "Hay un requirement.txt que puedes utilizar."
   ]
  },
  {
   "cell_type": "markdown",
   "metadata": {},
   "source": [
    "# Tarea: Registro de Actividades con Decoradores y Clases\n",
    "\n"
   ]
  },
  {
   "cell_type": "markdown",
   "metadata": {},
   "source": [
    "Objetivo: Crear un sistema que registre las actividades de una clase Usuario en un archivo de texto."
   ]
  },
  {
   "cell_type": "markdown",
   "metadata": {},
   "source": [
    "## Instrucciones:\n",
    "\n"
   ]
  },
  {
   "cell_type": "markdown",
   "metadata": {},
   "source": [
    "Define un decorador llamado `registrar_actividad` que, cuando se aplique a un método, registre la actividad en un archivo llamado `registro.txt`. La actividad debe tener el formato: \"`[FECHA Y HORA]` - Se ejecutó el método `[NOMBRE DEL MÉTODO]` con los argumentos: `[ARGUMENTOS]`\".\n",
    "\n",
    "Crea una clase llamada Usuario con los siguientes métodos:\n",
    "        `crear(nombre, apellido)`: establece el nombre y apellido del usuario.\n",
    "        `obtener_info()`: devuelve el nombre y apellido del usuario.\n",
    "        `modificar(nombre, apellido)`: modifica el nombre y apellido del usuario.\n",
    "\n",
    "Asegúrate de aplicar el decorador `registrar_actividad` a estos métodos.\n",
    "\n",
    "Implementa la lógica para registrar la actividad utilizando el contexto with para manejar el archivo `registro.txt`."
   ]
  },
  {
   "cell_type": "markdown",
   "metadata": {},
   "source": [
    "Ejemplo de uso:"
   ]
  },
  {
   "cell_type": "markdown",
   "metadata": {},
   "source": [
    "```usuario = Usuario()\n",
    "usuario.crear(\"Ms\", \"Kobayashi\")\n",
    "info = usuario.obtener_info()\n",
    "usuario.modificar(\"Tohru\", \"Kobayashi\")\n",
    "```"
   ]
  },
  {
   "cell_type": "markdown",
   "metadata": {},
   "source": [
    "```\n",
    "[2023-10-05 10:10:10] - Se ejecutó el método crear con los argumentos: ('Ms', 'Kobayashi')\n",
    "[2023-10-05 10:10:15] - Se ejecutó el método obtener_info con los argumentos: ()\n",
    "[2023-10-05 10:10:20] - Se ejecutó el método modificar con los argumentos: ('Tohru', 'Kobayashi')\n",
    "```\n"
   ]
  },
  {
   "cell_type": "markdown",
   "metadata": {},
   "source": [
    "Sugerencias"
   ]
  },
  {
   "cell_type": "markdown",
   "metadata": {},
   "source": [
    "Sugerencias:\n",
    "\n",
    "    Utiliza el módulo datetime para obtener la fecha y hora actual cuando registres una actividad.\n",
    "    En el decorador, usa func.__name__ para obtener el nombre del método que estás registrando."
   ]
  },
  {
   "cell_type": "markdown",
   "metadata": {},
   "source": [
    "## Codigo"
   ]
  },
  {
   "cell_type": "code",
   "execution_count": 16,
   "metadata": {},
   "outputs": [],
   "source": [
    "import datetime\n",
    "\n",
    "def registrar_actividad(metodo):\n",
    "    def wrapper(*args, **kwargs):\n",
    "        fecha_hora_actual = datetime.datetime.now().strftime(\"%Y-%m-%d %H:%M:%S\")\n",
    "        nombre = metodo.__name__\n",
    "        mensaje = f\"[{fecha_hora_actual}] - Se ejecutó el método {nombre} con los argumentos: {args}\\n\"            \n",
    "        with open(\"registro.txt\", \"a\") as fi:\n",
    "            fi.write(mensaje)   \n",
    "        return metodo(*args, **kwargs)\n",
    "    return wrapper"
   ]
  },
  {
   "cell_type": "code",
   "execution_count": 17,
   "metadata": {},
   "outputs": [],
   "source": [
    "class Usuario:\n",
    "    def __init__(self):\n",
    "        self.nombre = None\n",
    "        self.apellido = None\n",
    "    @registrar_actividad\n",
    "    def crear(self, nombre, apellido):\n",
    "        self.nombre = nombre\n",
    "        self.apellido = apellido\n",
    "    @registrar_actividad\n",
    "    def obtener_info(self):\n",
    "        return f\"Nombre: {self.nombre}, Apellido: {self.apellido}\"\n",
    "    @registrar_actividad\n",
    "    def modificar(self, nombre, apellido):\n",
    "        self.nombre = nombre\n",
    "        self.apellido = apellido\n",
    "        \n",
    "usuario = Usuario()\n",
    "usuario.crear(\"Ms\", \"Kobayashi\")\n",
    "info = usuario.obtener_info()\n",
    "usuario.modificar(\"Tohru\", \"Kobayashi\")"
   ]
  },
  {
   "cell_type": "markdown",
   "metadata": {},
   "source": [
    "# Tarea: Evaluación de Tiempos de Ejecución"
   ]
  },
  {
   "cell_type": "markdown",
   "metadata": {},
   "source": [
    "Objetivo: Utilizar un decorador para medir y registrar los tiempos de ejecución de diversas operaciones en Python, y guardar los resultados en un archivo llamado tiempos.txt."
   ]
  },
  {
   "cell_type": "markdown",
   "metadata": {},
   "source": [
    "## Instrucciones"
   ]
  },
  {
   "cell_type": "markdown",
   "metadata": {},
   "source": [
    "Define un decorador llamado medir_tiempo que registre el tiempo que tarda en ejecutarse la función decorada. El decorador debe escribir el tiempo de ejecución, junto con el nombre de la función, y el tamano del arreglo, en el archivo tiempos.txt, **separados por comas**. Basicamente un `csv` donde se guarden los tiempos de ejecucion.  \n",
    "\n",
    "La primera linea del archivo debe de representar el nombre de las columnas, las siguientes lineas representan las observaciones:\n",
    "`funcion,n,tiempo`."
   ]
  },
  {
   "cell_type": "markdown",
   "metadata": {},
   "source": [
    "Ejecuta las funciones con diferentes valores de n = [10, 1000, 10000, 100000, 1000000, 5000000] para generar datos en tiempos.txt.  \n",
    "Corre cada funcion al menos unas 5 veces para cada tamanno del arreglo. Asegurate de no sobreescribir el archivo txt para que no se elimine la ejecucion."
   ]
  },
  {
   "cell_type": "markdown",
   "metadata": {},
   "source": [
    "## Ejemplo de Uso"
   ]
  },
  {
   "cell_type": "markdown",
   "metadata": {},
   "source": [
    "```\n",
    "iterar_lista(10000)\n",
    "iterar_tupla(10000)\n",
    "iterar_objeto(10000)\n",
    "usar_yield(10000)\n",
    "\n",
    "```"
   ]
  },
  {
   "cell_type": "markdown",
   "metadata": {},
   "source": [
    "```\n",
    "[2023-10-05 10:10:10] - La función iterar_lista tardó 0.00123 segundos con n=10000\n",
    "[2023-10-05 10:10:11] - La función iterar_tupla tardó 0.00120 segundos con n=10000\n",
    "[2023-10-05 10:10:12] - La función iterar_objeto tardó 0.00543 segundos con n=10000\n",
    "[2023-10-05 10:10:13] - La función usar_yield tardó 0.00093 segundos con n=10000\n",
    "\n",
    "```"
   ]
  },
  {
   "cell_type": "markdown",
   "metadata": {},
   "source": [
    "```\n",
    "tiempos.txt:\n",
    "funcion,n,tiempo,\n",
    "asd,1000,10\n",
    "```"
   ]
  },
  {
   "cell_type": "markdown",
   "metadata": {},
   "source": [
    "## Codigo"
   ]
  },
  {
   "cell_type": "code",
   "execution_count": 19,
   "metadata": {},
   "outputs": [],
   "source": [
    "import time\n",
    "import datetime\n",
    "import numpy as np\n",
    "import pandas as pd\n",
    "import polars as pl\n",
    "\n",
    "def medir_tiempo(func):\n",
    "    def envoltorio(*args, **kwargs):\n",
    "            inicio = time.time()\n",
    "            func(*args, **kwargs)\n",
    "            tamano = args[0]\n",
    "            fin = time.time()\n",
    "            tiempo_ejecucion = fin - inicio\n",
    "\n",
    "            with open(\"velocidades.csv\", 'a', newline='') as f:\n",
    "                f.write(f\"{func.__name__},{tamano},: {tiempo_ejecucion}\\n\")\n",
    "            return None\n",
    "    return envoltorio\n",
    "\n",
    "@medir_tiempo\n",
    "def sumar_lista(n):\n",
    "    lista = [i for i in range(n)]\n",
    "    return sum(lista)\n",
    "\n",
    "@medir_tiempo\n",
    "def sumar_tupla(n):\n",
    "    tupla = tuple(i for i in range(n))\n",
    "    return sum(tupla)\n",
    "\n",
    "@medir_tiempo\n",
    "def sumar_objeto(n):\n",
    "    class ClaseEjemplo:\n",
    "        def __init__(self, numero):\n",
    "            self.numero = numero\n",
    "            \n",
    "    objetos = [ClaseEjemplo(i) for i in range(n)]\n",
    "    return sum(obj.numero for obj in objetos)\n",
    "\n",
    "@medir_tiempo\n",
    "def sumar_usando_yield(n):\n",
    "    def generador():\n",
    "        for i in range(n):\n",
    "            yield i\n",
    "            \n",
    "    return sum(generador())\n",
    "\n",
    "@medir_tiempo\n",
    "def sumar_conjunto(n):\n",
    "    conjunto = set(range(n))\n",
    "    return sum(conjunto)\n",
    "\n",
    "@medir_tiempo\n",
    "def sumar_valores_diccionario(n):\n",
    "    diccionario = {i: i for i in range(n)}\n",
    "    return sum(diccionario.values())\n",
    "\n",
    "@medir_tiempo\n",
    "def sumar_numpy_array(n):\n",
    "    array = np.arange(n)\n",
    "    return np.sum(array)\n",
    "\n",
    "@medir_tiempo\n",
    "def sumar_pandas_series(n):\n",
    "    serie = pd.Series(range(n))\n",
    "    return serie.sum()\n",
    "\n",
    "@medir_tiempo\n",
    "def sumar_polars_series(n):\n",
    "    serie = pl.Series(\"valores\", list(range(n)))\n",
    "    return serie.sum()"
   ]
  },
  {
   "cell_type": "code",
   "execution_count": 20,
   "metadata": {},
   "outputs": [],
   "source": [
    "for i in range(0,5):\n",
    "    for n in [10, 1000, 10000, 100000, 1000000, 5000000]:\n",
    "        sumar_lista(n)\n",
    "        sumar_tupla(n)\n",
    "        sumar_objeto(n)\n",
    "        sumar_usando_yield(n)\n",
    "        sumar_conjunto(n)\n",
    "        sumar_valores_diccionario(n)\n",
    "        sumar_numpy_array(n)\n",
    "        sumar_pandas_series(n)\n",
    "        sumar_polars_series(n)"
   ]
  },
  {
   "cell_type": "markdown",
   "metadata": {},
   "source": [
    "# Tarea Yield"
   ]
  },
  {
   "cell_type": "markdown",
   "metadata": {},
   "source": [
    "Investiga y explica en tus propias palabras que es un iterador y un el objeto `yield`"
   ]
  },
  {
   "cell_type": "markdown",
   "metadata": {},
   "source": [
    "Explicacion:"
   ]
  },
  {
   "cell_type": "markdown",
   "metadata": {},
   "source": [
    "Un iterador es un objeto que permite recorrer una colección de objetos, sin tener que utilizar los objetos en la memoria juntos. Uiliza los métodos __next__() que te permite recorrer la colección al regresar el siguiente objeto iterable. __iter__() es un método que te devuelve el iterador mismo. \n",
    "Se utiliza con sintáxis next(iterador)... y para inicializar el iterador iterador=iter(lo que buscas iterar)\n",
    "Al llegar al último elemento, simplemente se frena el iterador.\n",
    "\n",
    "\n",
    "El objeto yield te permite generar una especie de lista o colección sin utilizar memoria antes. Se crea una función con varias instancias yield que después puedes, con ayuda de un iterador, recorrerla.\n",
    "La sintaxis para el yield sería parecido a esto:\n",
    "def colección:\n",
    "    yield 1\n",
    "    yield 2\n",
    "iterable=colección()\n",
    "Ya teniendo este iterable, se mete a un iterador y puedes recorrerlo."
   ]
  }
 ],
 "metadata": {
  "kernelspec": {
   "display_name": "itam",
   "language": "python",
   "name": "python3"
  },
  "language_info": {
   "codemirror_mode": {
    "name": "ipython",
    "version": 3
   },
   "file_extension": ".py",
   "mimetype": "text/x-python",
   "name": "python",
   "nbconvert_exporter": "python",
   "pygments_lexer": "ipython3",
   "version": "3.8.18"
  },
  "orig_nbformat": 4
 },
 "nbformat": 4,
 "nbformat_minor": 2
}
