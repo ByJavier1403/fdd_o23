{
 "cells": [
  {
   "cell_type": "markdown",
   "metadata": {},
   "source": [
    "Antes de hacer algo asegurate de hacer pull del repo de la clase, crear un nuevo branch, copiar esta carpeta a tu carepta de tareas y trabajar sobre ella.  \n",
    "Cuando acabes has git add, commit y pull request a los archivos que modificaste.  \n",
    "Valor de la tarea es de 20 puntos y se entrega el siguiente lunes por la mannana."
   ]
  },
  {
   "cell_type": "markdown",
   "metadata": {},
   "source": [
    "Hay un requirement.txt que puedes utilizar."
   ]
  },
  {
   "cell_type": "markdown",
   "metadata": {},
   "source": [
    "# Tarea: Registro de Actividades con Decoradores y Clases\n",
    "\n"
   ]
  },
  {
   "cell_type": "markdown",
   "metadata": {},
   "source": [
    "Objetivo: Crear un sistema que registre las actividades de una clase Usuario en un archivo de texto."
   ]
  },
  {
   "cell_type": "markdown",
   "metadata": {},
   "source": [
    "## Instrucciones:\n",
    "\n"
   ]
  },
  {
   "cell_type": "markdown",
   "metadata": {},
   "source": [
    "Define un decorador llamado `registrar_actividad` que, cuando se aplique a un método, registre la actividad en un archivo llamado `registro.txt`. La actividad debe tener el formato: \"`[FECHA Y HORA]` - Se ejecutó el método `[NOMBRE DEL MÉTODO]` con los argumentos: `[ARGUMENTOS]`\".\n",
    "\n",
    "Crea una clase llamada Usuario con los siguientes métodos:\n",
    "        `crear(nombre, apellido)`: establece el nombre y apellido del usuario.\n",
    "        `obtener_info()`: devuelve el nombre y apellido del usuario.\n",
    "        `modificar(nombre, apellido)`: modifica el nombre y apellido del usuario.\n",
    "\n",
    "Asegúrate de aplicar el decorador `registrar_actividad` a estos métodos.\n",
    "\n",
    "Implementa la lógica para registrar la actividad utilizando el contexto with para manejar el archivo `registro.txt`."
   ]
  },
  {
   "cell_type": "markdown",
   "metadata": {},
   "source": [
    "Ejemplo de uso:"
   ]
  },
  {
   "cell_type": "markdown",
   "metadata": {},
   "source": [
    "```usuario = Usuario()\n",
    "usuario.crear(\"Ms\", \"Kobayashi\")\n",
    "info = usuario.obtener_info()\n",
    "usuario.modificar(\"Tohru\", \"Kobayashi\")\n",
    "```"
   ]
  },
  {
   "cell_type": "markdown",
   "metadata": {},
   "source": [
    "```\n",
    "[2023-10-05 10:10:10] - Se ejecutó el método crear con los argumentos: ('Ms', 'Kobayashi')\n",
    "[2023-10-05 10:10:15] - Se ejecutó el método obtener_info con los argumentos: ()\n",
    "[2023-10-05 10:10:20] - Se ejecutó el método modificar con los argumentos: ('Tohru', 'Kobayashi')\n",
    "```\n"
   ]
  },
  {
   "cell_type": "markdown",
   "metadata": {},
   "source": [
    "Sugerencias"
   ]
  },
  {
   "cell_type": "markdown",
   "metadata": {},
   "source": [
    "Sugerencias:\n",
    "\n",
    "    Utiliza el módulo datetime para obtener la fecha y hora actual cuando registres una actividad.\n",
    "    En el decorador, usa func.__name__ para obtener el nombre del método que estás registrando."
   ]
  },
  {
   "cell_type": "markdown",
   "metadata": {},
   "source": [
    "## Codigo"
   ]
  },
  {
   "cell_type": "code",
   "execution_count": 1,
   "metadata": {},
   "outputs": [],
   "source": [
    "import datetime\n",
    "\n",
    "# Decorador para registrar actividad\n",
    "def registrar_actividad(func):\n",
    "    def envoltura(*args, **kwargs):\n",
    "        fecha_hora = datetime.datetime.now().strftime('%Y-%m-%d %H:%M:%S')\n",
    "        nombre_metodo = func.__name__\n",
    "        argumentos = ', '.join([str(a) for a in args[1:]] + [f\"{k}={v}\" for k, v in kwargs.items()])  # args[1:] para excluir el 'self'\n",
    "        \n",
    "        # Utilizando el contexto with para manejar el archivo\n",
    "        with open('registro.txt', 'a') as archivo:\n",
    "            archivo.write(f\"{fecha_hora} - Se ejecutó el método {nombre_metodo} con los argumentos: {argumentos}\\n\")\n",
    "            \n",
    "        return func(*args, **kwargs)\n",
    "    return envoltura\n",
    "\n",
    "# Clase Usuario con métodos decorados\n",
    "class Usuario:\n",
    "    def __init__(self):\n",
    "        self.nombre = ''\n",
    "        self.apellido = ''\n",
    "\n",
    "    @registrar_actividad\n",
    "    def crear(self, nombre, apellido):\n",
    "        self.nombre = nombre\n",
    "        self.apellido = apellido\n",
    "\n",
    "    @registrar_actividad\n",
    "    def obtener_info(self):\n",
    "        return self.nombre, self.apellido\n",
    "\n",
    "    @registrar_actividad\n",
    "    def modificar(self, nombre, apellido):\n",
    "        self.nombre = nombre\n",
    "        self.apellido = apellido\n",
    "\n",
    "# Ejemplo de uso:\n",
    "usuario = Usuario()\n",
    "usuario.crear(\"Ms\", \"Kobayashi\")\n",
    "info = usuario.obtener_info()\n",
    "usuario.modificar(\"Tohru\", \"Kobayashi\")\n"
   ]
  },
  {
   "cell_type": "markdown",
   "metadata": {},
   "source": [
    "# Tarea: Evaluación de Tiempos de Ejecución"
   ]
  },
  {
   "cell_type": "markdown",
   "metadata": {},
   "source": [
    "Objetivo: Utilizar un decorador para medir y registrar los tiempos de ejecución de diversas operaciones en Python, y guardar los resultados en un archivo llamado tiempos.txt."
   ]
  },
  {
   "cell_type": "markdown",
   "metadata": {},
   "source": [
    "## Instrucciones"
   ]
  },
  {
   "cell_type": "markdown",
   "metadata": {},
   "source": [
    "Define un decorador llamado medir_tiempo que registre el tiempo que tarda en ejecutarse la función decorada. El decorador debe escribir el tiempo de ejecución, junto con el nombre de la función, y el tamano del arreglo, en el archivo tiempos.txt, **separados por comas**. Basicamente un `csv` donde se guarden los tiempos de ejecucion.  \n",
    "\n",
    "La primera linea del archivo debe de representar el nombre de las columnas, las siguientes lineas representan las observaciones:\n",
    "`funcion,n,tiempo`."
   ]
  },
  {
   "cell_type": "markdown",
   "metadata": {},
   "source": [
    "Ejecuta las funciones con diferentes valores de n = [10, 1000, 10000, 100000, 1000000, 5000000] para generar datos en tiempos.txt.  \n",
    "Corre cada funcion al menos unas 5 veces para cada tamanno del arreglo. Asegurate de no sobreescribir el archivo txt para que no se elimine la ejecucion."
   ]
  },
  {
   "cell_type": "markdown",
   "metadata": {},
   "source": [
    "## Ejemplo de Uso"
   ]
  },
  {
   "cell_type": "markdown",
   "metadata": {},
   "source": [
    "```\n",
    "iterar_lista(10000)\n",
    "iterar_tupla(10000)\n",
    "iterar_objeto(10000)\n",
    "usar_yield(10000)\n",
    "\n",
    "```"
   ]
  },
  {
   "cell_type": "markdown",
   "metadata": {},
   "source": [
    "```\n",
    "[2023-10-05 10:10:10] - La función iterar_lista tardó 0.00123 segundos con n=10000\n",
    "[2023-10-05 10:10:11] - La función iterar_tupla tardó 0.00120 segundos con n=10000\n",
    "[2023-10-05 10:10:12] - La función iterar_objeto tardó 0.00543 segundos con n=10000\n",
    "[2023-10-05 10:10:13] - La función usar_yield tardó 0.00093 segundos con n=10000\n",
    "\n",
    "```"
   ]
  },
  {
   "cell_type": "markdown",
   "metadata": {},
   "source": [
    "```\n",
    "tiempos.txt:\n",
    "funcion,n,tiempo,\n",
    "asd,1000,10\n",
    "```"
   ]
  },
  {
   "cell_type": "markdown",
   "metadata": {},
   "source": [
    "## Codigo"
   ]
  },
  {
   "cell_type": "code",
   "execution_count": 7,
   "metadata": {},
   "outputs": [],
   "source": [
    "import time\n",
    "import datetime\n",
    "import numpy as np\n",
    "import pandas as pd\n",
    "# import polars as pl # No se pudo instalar en mi computadora\n",
    "\n",
    "def medir_tiempo(func):\n",
    "    def envoltorio(*args, **kwargs):\n",
    "        inicio = time.time()\n",
    "        resultado = func(*args, **kwargs)\n",
    "        fin = time.time()\n",
    "        duracion = fin - inicio \n",
    "        \n",
    "        tiempo_actual = datetime.datetime.now().strftime(\"%Y-%m-%d %H:%M:%S\")\n",
    "        print(f\"[{tiempo_actual}] - La función {func.__name__} tardó {duracion:.5f} segundos con n={args[0]}\")\n",
    "        \n",
    "        with open(\"tiempos.txt\", \"a\") as f:\n",
    "            f.write(f\"{func.__name__},{args[0]},{duracion:.5f}\\n\")\n",
    "        \n",
    "        return resultado\n",
    "        \n",
    "    return envoltorio\n",
    "\n",
    "# Crear el archivo 'tiempos.txt' con los encabezados si no existe\n",
    "try:\n",
    "    with open(\"tiempos.txt\", \"x\") as f:\n",
    "        f.write(\"funcion,n,tiempo\\n\")\n",
    "except FileExistsError:\n",
    "    pass\n",
    "\n",
    "@medir_tiempo\n",
    "def sumar_lista(n):\n",
    "    lista = [i for i in range(n)]\n",
    "    return sum(lista)\n",
    "\n",
    "@medir_tiempo\n",
    "def sumar_tupla(n):\n",
    "    tupla = tuple(i for i in range(n))\n",
    "    return sum(tupla)\n",
    "\n",
    "@medir_tiempo\n",
    "def sumar_objeto(n):\n",
    "    class ClaseEjemplo:\n",
    "        def __init__(self, numero):\n",
    "            self.numero = numero\n",
    "            \n",
    "    objetos = [ClaseEjemplo(i) for i in range(n)]\n",
    "    return sum(obj.numero for obj in objetos)\n",
    "\n",
    "@medir_tiempo\n",
    "def sumar_usando_yield(n):\n",
    "    def generador():\n",
    "        for i in range(n):\n",
    "            yield i\n",
    "            \n",
    "    return sum(generador())\n",
    "\n",
    "@medir_tiempo\n",
    "def sumar_conjunto(n):\n",
    "    conjunto = set(range(n))\n",
    "    return sum(conjunto)\n",
    "\n",
    "@medir_tiempo\n",
    "def sumar_valores_diccionario(n):\n",
    "    diccionario = {i: i for i in range(n)}\n",
    "    return sum(diccionario.values())\n",
    "\n",
    "@medir_tiempo\n",
    "def sumar_numpy_array(n):\n",
    "    array = np.arange(n)\n",
    "    return np.sum(array)\n",
    "\n",
    "@medir_tiempo\n",
    "def sumar_pandas_series(n):\n",
    "    serie = pd.Series(range(n))\n",
    "    return serie.sum()\n",
    "\n",
    "@medir_tiempo\n",
    "def sumar_polars_series(n):\n",
    "    serie = pl.Series(\"valores\", list(range(n)))\n",
    "    return serie.sum()"
   ]
  },
  {
   "cell_type": "code",
   "execution_count": 8,
   "metadata": {},
   "outputs": [
    {
     "name": "stdout",
     "output_type": "stream",
     "text": [
      "[2023-10-11 17:13:03] - La función sumar_lista tardó 0.00000 segundos con n=10\n",
      "[2023-10-11 17:13:03] - La función sumar_tupla tardó 0.00000 segundos con n=10\n",
      "[2023-10-11 17:13:03] - La función sumar_objeto tardó 0.00000 segundos con n=10\n",
      "[2023-10-11 17:13:03] - La función sumar_usando_yield tardó 0.00000 segundos con n=10\n",
      "[2023-10-11 17:13:03] - La función sumar_conjunto tardó 0.00000 segundos con n=10\n",
      "[2023-10-11 17:13:03] - La función sumar_valores_diccionario tardó 0.00000 segundos con n=10\n",
      "[2023-10-11 17:13:03] - La función sumar_numpy_array tardó 0.00301 segundos con n=10\n",
      "[2023-10-11 17:13:03] - La función sumar_pandas_series tardó 0.00405 segundos con n=10\n",
      "[2023-10-11 17:13:03] - La función sumar_lista tardó 0.00097 segundos con n=1000\n",
      "[2023-10-11 17:13:03] - La función sumar_tupla tardó 0.00100 segundos con n=1000\n",
      "[2023-10-11 17:13:03] - La función sumar_objeto tardó 0.00099 segundos con n=1000\n",
      "[2023-10-11 17:13:03] - La función sumar_usando_yield tardó 0.00000 segundos con n=1000\n",
      "[2023-10-11 17:13:03] - La función sumar_conjunto tardó 0.00000 segundos con n=1000\n",
      "[2023-10-11 17:13:03] - La función sumar_valores_diccionario tardó 0.00000 segundos con n=1000\n",
      "[2023-10-11 17:13:03] - La función sumar_numpy_array tardó 0.00000 segundos con n=1000\n",
      "[2023-10-11 17:13:03] - La función sumar_pandas_series tardó 0.00000 segundos con n=1000\n",
      "[2023-10-11 17:13:03] - La función sumar_lista tardó 0.00100 segundos con n=10000\n",
      "[2023-10-11 17:13:03] - La función sumar_tupla tardó 0.00101 segundos con n=10000\n",
      "[2023-10-11 17:13:03] - La función sumar_objeto tardó 0.00300 segundos con n=10000\n",
      "[2023-10-11 17:13:03] - La función sumar_usando_yield tardó 0.00099 segundos con n=10000\n",
      "[2023-10-11 17:13:03] - La función sumar_conjunto tardó 0.00000 segundos con n=10000\n",
      "[2023-10-11 17:13:03] - La función sumar_valores_diccionario tardó 0.00099 segundos con n=10000\n",
      "[2023-10-11 17:13:03] - La función sumar_numpy_array tardó 0.00000 segundos con n=10000\n",
      "[2023-10-11 17:13:03] - La función sumar_pandas_series tardó 0.00102 segundos con n=10000\n",
      "[2023-10-11 17:13:03] - La función sumar_lista tardó 0.00600 segundos con n=100000\n",
      "[2023-10-11 17:13:03] - La función sumar_tupla tardó 0.00901 segundos con n=100000\n",
      "[2023-10-11 17:13:03] - La función sumar_objeto tardó 0.08813 segundos con n=100000\n",
      "[2023-10-11 17:13:03] - La función sumar_usando_yield tardó 0.00450 segundos con n=100000\n",
      "[2023-10-11 17:13:03] - La función sumar_conjunto tardó 0.00902 segundos con n=100000\n",
      "[2023-10-11 17:13:03] - La función sumar_valores_diccionario tardó 0.00802 segundos con n=100000\n",
      "[2023-10-11 17:13:03] - La función sumar_numpy_array tardó 0.00000 segundos con n=100000\n",
      "[2023-10-11 17:13:03] - La función sumar_pandas_series tardó 0.00101 segundos con n=100000\n",
      "[2023-10-11 17:13:03] - La función sumar_lista tardó 0.07560 segundos con n=1000000\n",
      "[2023-10-11 17:13:03] - La función sumar_tupla tardó 0.09442 segundos con n=1000000\n",
      "[2023-10-11 17:13:04] - La función sumar_objeto tardó 0.87686 segundos con n=1000000\n",
      "[2023-10-11 17:13:04] - La función sumar_usando_yield tardó 0.06301 segundos con n=1000000\n",
      "[2023-10-11 17:13:04] - La función sumar_conjunto tardó 0.07074 segundos con n=1000000\n",
      "[2023-10-11 17:13:04] - La función sumar_valores_diccionario tardó 0.09284 segundos con n=1000000\n",
      "[2023-10-11 17:13:04] - La función sumar_numpy_array tardó 0.00200 segundos con n=1000000\n",
      "[2023-10-11 17:13:04] - La función sumar_pandas_series tardó 0.00300 segundos con n=1000000\n",
      "[2023-10-11 17:13:05] - La función sumar_lista tardó 0.38511 segundos con n=5000000\n",
      "[2023-10-11 17:13:05] - La función sumar_tupla tardó 0.47958 segundos con n=5000000\n",
      "[2023-10-11 17:13:09] - La función sumar_objeto tardó 3.97315 segundos con n=5000000\n",
      "[2023-10-11 17:13:10] - La función sumar_usando_yield tardó 0.33138 segundos con n=5000000\n",
      "[2023-10-11 17:13:10] - La función sumar_conjunto tardó 0.33636 segundos con n=5000000\n",
      "[2023-10-11 17:13:11] - La función sumar_valores_diccionario tardó 0.50039 segundos con n=5000000\n",
      "[2023-10-11 17:13:11] - La función sumar_numpy_array tardó 0.01900 segundos con n=5000000\n",
      "[2023-10-11 17:13:11] - La función sumar_pandas_series tardó 0.02053 segundos con n=5000000\n",
      "[2023-10-11 17:13:11] - La función sumar_lista tardó 0.00000 segundos con n=10\n",
      "[2023-10-11 17:13:11] - La función sumar_tupla tardó 0.00000 segundos con n=10\n",
      "[2023-10-11 17:13:11] - La función sumar_objeto tardó 0.00100 segundos con n=10\n",
      "[2023-10-11 17:13:11] - La función sumar_usando_yield tardó 0.00000 segundos con n=10\n",
      "[2023-10-11 17:13:11] - La función sumar_conjunto tardó 0.00000 segundos con n=10\n",
      "[2023-10-11 17:13:11] - La función sumar_valores_diccionario tardó 0.00000 segundos con n=10\n",
      "[2023-10-11 17:13:11] - La función sumar_numpy_array tardó 0.00000 segundos con n=10\n",
      "[2023-10-11 17:13:11] - La función sumar_pandas_series tardó 0.00100 segundos con n=10\n",
      "[2023-10-11 17:13:11] - La función sumar_lista tardó 0.00100 segundos con n=1000\n",
      "[2023-10-11 17:13:11] - La función sumar_tupla tardó 0.00000 segundos con n=1000\n",
      "[2023-10-11 17:13:11] - La función sumar_objeto tardó 0.00101 segundos con n=1000\n",
      "[2023-10-11 17:13:11] - La función sumar_usando_yield tardó 0.00000 segundos con n=1000\n",
      "[2023-10-11 17:13:11] - La función sumar_conjunto tardó 0.00000 segundos con n=1000\n",
      "[2023-10-11 17:13:11] - La función sumar_valores_diccionario tardó 0.00000 segundos con n=1000\n",
      "[2023-10-11 17:13:11] - La función sumar_numpy_array tardó 0.00000 segundos con n=1000\n",
      "[2023-10-11 17:13:11] - La función sumar_pandas_series tardó 0.00101 segundos con n=1000\n",
      "[2023-10-11 17:13:11] - La función sumar_lista tardó 0.00100 segundos con n=10000\n",
      "[2023-10-11 17:13:11] - La función sumar_tupla tardó 0.00100 segundos con n=10000\n",
      "[2023-10-11 17:13:11] - La función sumar_objeto tardó 0.00400 segundos con n=10000\n",
      "[2023-10-11 17:13:11] - La función sumar_usando_yield tardó 0.00100 segundos con n=10000\n",
      "[2023-10-11 17:13:11] - La función sumar_conjunto tardó 0.00000 segundos con n=10000\n",
      "[2023-10-11 17:13:11] - La función sumar_valores_diccionario tardó 0.00000 segundos con n=10000\n",
      "[2023-10-11 17:13:11] - La función sumar_numpy_array tardó 0.00000 segundos con n=10000\n",
      "[2023-10-11 17:13:11] - La función sumar_pandas_series tardó 0.00100 segundos con n=10000\n",
      "[2023-10-11 17:13:11] - La función sumar_lista tardó 0.00601 segundos con n=100000\n",
      "[2023-10-11 17:13:11] - La función sumar_tupla tardó 0.00600 segundos con n=100000\n",
      "[2023-10-11 17:13:11] - La función sumar_objeto tardó 0.02900 segundos con n=100000\n",
      "[2023-10-11 17:13:11] - La función sumar_usando_yield tardó 0.00400 segundos con n=100000\n",
      "[2023-10-11 17:13:11] - La función sumar_conjunto tardó 0.00500 segundos con n=100000\n",
      "[2023-10-11 17:13:11] - La función sumar_valores_diccionario tardó 0.01099 segundos con n=100000\n",
      "[2023-10-11 17:13:11] - La función sumar_numpy_array tardó 0.00000 segundos con n=100000\n",
      "[2023-10-11 17:13:11] - La función sumar_pandas_series tardó 0.00151 segundos con n=100000\n",
      "[2023-10-11 17:13:11] - La función sumar_lista tardó 0.07910 segundos con n=1000000\n",
      "[2023-10-11 17:13:11] - La función sumar_tupla tardó 0.08580 segundos con n=1000000\n",
      "[2023-10-11 17:13:11] - La función sumar_objeto tardó 0.33088 segundos con n=1000000\n",
      "[2023-10-11 17:13:11] - La función sumar_usando_yield tardó 0.05255 segundos con n=1000000\n",
      "[2023-10-11 17:13:11] - La función sumar_conjunto tardó 0.05863 segundos con n=1000000\n",
      "[2023-10-11 17:13:11] - La función sumar_valores_diccionario tardó 0.08402 segundos con n=1000000\n",
      "[2023-10-11 17:13:11] - La función sumar_numpy_array tardó 0.00205 segundos con n=1000000\n",
      "[2023-10-11 17:13:11] - La función sumar_pandas_series tardó 0.00431 segundos con n=1000000\n",
      "[2023-10-11 17:13:12] - La función sumar_lista tardó 0.40313 segundos con n=5000000\n",
      "[2023-10-11 17:13:12] - La función sumar_tupla tardó 0.43963 segundos con n=5000000\n",
      "[2023-10-11 17:13:16] - La función sumar_objeto tardó 3.58287 segundos con n=5000000\n",
      "[2023-10-11 17:13:16] - La función sumar_usando_yield tardó 0.35210 segundos con n=5000000\n",
      "[2023-10-11 17:13:16] - La función sumar_conjunto tardó 0.29163 segundos con n=5000000\n",
      "[2023-10-11 17:13:18] - La función sumar_valores_diccionario tardó 1.10277 segundos con n=5000000\n",
      "[2023-10-11 17:13:18] - La función sumar_numpy_array tardó 0.02127 segundos con n=5000000\n",
      "[2023-10-11 17:13:18] - La función sumar_pandas_series tardó 0.02873 segundos con n=5000000\n",
      "[2023-10-11 17:13:18] - La función sumar_lista tardó 0.00000 segundos con n=10\n",
      "[2023-10-11 17:13:18] - La función sumar_tupla tardó 0.00000 segundos con n=10\n",
      "[2023-10-11 17:13:18] - La función sumar_objeto tardó 0.00000 segundos con n=10\n",
      "[2023-10-11 17:13:18] - La función sumar_usando_yield tardó 0.00000 segundos con n=10\n",
      "[2023-10-11 17:13:18] - La función sumar_conjunto tardó 0.00000 segundos con n=10\n",
      "[2023-10-11 17:13:18] - La función sumar_valores_diccionario tardó 0.00000 segundos con n=10\n",
      "[2023-10-11 17:13:18] - La función sumar_numpy_array tardó 0.00000 segundos con n=10\n",
      "[2023-10-11 17:13:18] - La función sumar_pandas_series tardó 0.00100 segundos con n=10\n",
      "[2023-10-11 17:13:18] - La función sumar_lista tardó 0.00099 segundos con n=1000\n",
      "[2023-10-11 17:13:18] - La función sumar_tupla tardó 0.00000 segundos con n=1000\n",
      "[2023-10-11 17:13:18] - La función sumar_objeto tardó 0.00101 segundos con n=1000\n",
      "[2023-10-11 17:13:18] - La función sumar_usando_yield tardó 0.00000 segundos con n=1000\n",
      "[2023-10-11 17:13:18] - La función sumar_conjunto tardó 0.00100 segundos con n=1000\n",
      "[2023-10-11 17:13:18] - La función sumar_valores_diccionario tardó 0.00099 segundos con n=1000\n",
      "[2023-10-11 17:13:18] - La función sumar_numpy_array tardó 0.00000 segundos con n=1000\n",
      "[2023-10-11 17:13:18] - La función sumar_pandas_series tardó 0.00102 segundos con n=1000\n",
      "[2023-10-11 17:13:18] - La función sumar_lista tardó 0.00100 segundos con n=10000\n",
      "[2023-10-11 17:13:18] - La función sumar_tupla tardó 0.00300 segundos con n=10000\n",
      "[2023-10-11 17:13:18] - La función sumar_objeto tardó 0.01101 segundos con n=10000\n",
      "[2023-10-11 17:13:18] - La función sumar_usando_yield tardó 0.00201 segundos con n=10000\n",
      "[2023-10-11 17:13:18] - La función sumar_conjunto tardó 0.00101 segundos con n=10000\n",
      "[2023-10-11 17:13:18] - La función sumar_valores_diccionario tardó 0.00101 segundos con n=10000\n",
      "[2023-10-11 17:13:18] - La función sumar_numpy_array tardó 0.00000 segundos con n=10000\n",
      "[2023-10-11 17:13:18] - La función sumar_pandas_series tardó 0.00099 segundos con n=10000\n",
      "[2023-10-11 17:13:18] - La función sumar_lista tardó 0.01264 segundos con n=100000\n",
      "[2023-10-11 17:13:18] - La función sumar_tupla tardó 0.01499 segundos con n=100000\n",
      "[2023-10-11 17:13:18] - La función sumar_objeto tardó 0.08782 segundos con n=100000\n",
      "[2023-10-11 17:13:18] - La función sumar_usando_yield tardó 0.01147 segundos con n=100000\n",
      "[2023-10-11 17:13:18] - La función sumar_conjunto tardó 0.01204 segundos con n=100000\n",
      "[2023-10-11 17:13:18] - La función sumar_valores_diccionario tardó 0.02392 segundos con n=100000\n",
      "[2023-10-11 17:13:18] - La función sumar_numpy_array tardó 0.00100 segundos con n=100000\n",
      "[2023-10-11 17:13:18] - La función sumar_pandas_series tardó 0.00100 segundos con n=100000\n",
      "[2023-10-11 17:13:18] - La función sumar_lista tardó 0.19539 segundos con n=1000000\n",
      "[2023-10-11 17:13:18] - La función sumar_tupla tardó 0.21400 segundos con n=1000000\n",
      "[2023-10-11 17:13:20] - La función sumar_objeto tardó 1.53467 segundos con n=1000000\n",
      "[2023-10-11 17:13:20] - La función sumar_usando_yield tardó 0.21530 segundos con n=1000000\n",
      "[2023-10-11 17:13:20] - La función sumar_conjunto tardó 0.15082 segundos con n=1000000\n",
      "[2023-10-11 17:13:20] - La función sumar_valores_diccionario tardó 0.27634 segundos con n=1000000\n",
      "[2023-10-11 17:13:20] - La función sumar_numpy_array tardó 0.00502 segundos con n=1000000\n",
      "[2023-10-11 17:13:20] - La función sumar_pandas_series tardó 0.00802 segundos con n=1000000\n",
      "[2023-10-11 17:13:22] - La función sumar_lista tardó 1.09694 segundos con n=5000000\n",
      "[2023-10-11 17:13:23] - La función sumar_tupla tardó 1.28340 segundos con n=5000000\n",
      "[2023-10-11 17:13:28] - La función sumar_objeto tardó 4.95531 segundos con n=5000000\n",
      "[2023-10-11 17:13:28] - La función sumar_usando_yield tardó 0.32244 segundos con n=5000000\n",
      "[2023-10-11 17:13:28] - La función sumar_conjunto tardó 0.33828 segundos con n=5000000\n",
      "[2023-10-11 17:13:29] - La función sumar_valores_diccionario tardó 0.46797 segundos con n=5000000\n",
      "[2023-10-11 17:13:29] - La función sumar_numpy_array tardó 0.00898 segundos con n=5000000\n",
      "[2023-10-11 17:13:29] - La función sumar_pandas_series tardó 0.01400 segundos con n=5000000\n",
      "[2023-10-11 17:13:29] - La función sumar_lista tardó 0.00000 segundos con n=10\n",
      "[2023-10-11 17:13:29] - La función sumar_tupla tardó 0.00000 segundos con n=10\n",
      "[2023-10-11 17:13:29] - La función sumar_objeto tardó 0.00000 segundos con n=10\n",
      "[2023-10-11 17:13:29] - La función sumar_usando_yield tardó 0.00000 segundos con n=10\n",
      "[2023-10-11 17:13:29] - La función sumar_conjunto tardó 0.00000 segundos con n=10\n",
      "[2023-10-11 17:13:29] - La función sumar_valores_diccionario tardó 0.00000 segundos con n=10\n",
      "[2023-10-11 17:13:29] - La función sumar_numpy_array tardó 0.00000 segundos con n=10\n",
      "[2023-10-11 17:13:29] - La función sumar_pandas_series tardó 0.00000 segundos con n=10\n",
      "[2023-10-11 17:13:29] - La función sumar_lista tardó 0.00000 segundos con n=1000\n",
      "[2023-10-11 17:13:29] - La función sumar_tupla tardó 0.00101 segundos con n=1000\n",
      "[2023-10-11 17:13:29] - La función sumar_objeto tardó 0.00100 segundos con n=1000\n",
      "[2023-10-11 17:13:29] - La función sumar_usando_yield tardó 0.00000 segundos con n=1000\n",
      "[2023-10-11 17:13:29] - La función sumar_conjunto tardó 0.00000 segundos con n=1000\n",
      "[2023-10-11 17:13:29] - La función sumar_valores_diccionario tardó 0.00000 segundos con n=1000\n",
      "[2023-10-11 17:13:29] - La función sumar_numpy_array tardó 0.00000 segundos con n=1000\n",
      "[2023-10-11 17:13:29] - La función sumar_pandas_series tardó 0.00000 segundos con n=1000\n",
      "[2023-10-11 17:13:29] - La función sumar_lista tardó 0.00100 segundos con n=10000\n",
      "[2023-10-11 17:13:29] - La función sumar_tupla tardó 0.00101 segundos con n=10000\n",
      "[2023-10-11 17:13:29] - La función sumar_objeto tardó 0.00529 segundos con n=10000\n",
      "[2023-10-11 17:13:29] - La función sumar_usando_yield tardó 0.00101 segundos con n=10000\n",
      "[2023-10-11 17:13:29] - La función sumar_conjunto tardó 0.00102 segundos con n=10000\n",
      "[2023-10-11 17:13:29] - La función sumar_valores_diccionario tardó 0.00099 segundos con n=10000\n",
      "[2023-10-11 17:13:29] - La función sumar_numpy_array tardó 0.00000 segundos con n=10000\n",
      "[2023-10-11 17:13:29] - La función sumar_pandas_series tardó 0.00000 segundos con n=10000\n",
      "[2023-10-11 17:13:29] - La función sumar_lista tardó 0.00400 segundos con n=100000\n",
      "[2023-10-11 17:13:29] - La función sumar_tupla tardó 0.00700 segundos con n=100000\n",
      "[2023-10-11 17:13:29] - La función sumar_objeto tardó 0.07102 segundos con n=100000\n",
      "[2023-10-11 17:13:29] - La función sumar_usando_yield tardó 0.00400 segundos con n=100000\n",
      "[2023-10-11 17:13:29] - La función sumar_conjunto tardó 0.00605 segundos con n=100000\n",
      "[2023-10-11 17:13:29] - La función sumar_valores_diccionario tardó 0.00671 segundos con n=100000\n",
      "[2023-10-11 17:13:29] - La función sumar_numpy_array tardó 0.00000 segundos con n=100000\n",
      "[2023-10-11 17:13:29] - La función sumar_pandas_series tardó 0.00000 segundos con n=100000\n",
      "[2023-10-11 17:13:29] - La función sumar_lista tardó 0.06510 segundos con n=1000000\n",
      "[2023-10-11 17:13:29] - La función sumar_tupla tardó 0.07312 segundos con n=1000000\n",
      "[2023-10-11 17:13:30] - La función sumar_objeto tardó 0.80813 segundos con n=1000000\n",
      "[2023-10-11 17:13:30] - La función sumar_usando_yield tardó 0.07060 segundos con n=1000000\n",
      "[2023-10-11 17:13:30] - La función sumar_conjunto tardó 0.05600 segundos con n=1000000\n",
      "[2023-10-11 17:13:30] - La función sumar_valores_diccionario tardó 0.08054 segundos con n=1000000\n",
      "[2023-10-11 17:13:30] - La función sumar_numpy_array tardó 0.00200 segundos con n=1000000\n",
      "[2023-10-11 17:13:30] - La función sumar_pandas_series tardó 0.00299 segundos con n=1000000\n",
      "[2023-10-11 17:13:31] - La función sumar_lista tardó 0.34833 segundos con n=5000000\n",
      "[2023-10-11 17:13:31] - La función sumar_tupla tardó 0.42581 segundos con n=5000000\n",
      "[2023-10-11 17:13:35] - La función sumar_objeto tardó 3.47518 segundos con n=5000000\n",
      "[2023-10-11 17:13:35] - La función sumar_usando_yield tardó 0.27941 segundos con n=5000000\n",
      "[2023-10-11 17:13:35] - La función sumar_conjunto tardó 0.29540 segundos con n=5000000\n",
      "[2023-10-11 17:13:36] - La función sumar_valores_diccionario tardó 0.40708 segundos con n=5000000\n",
      "[2023-10-11 17:13:36] - La función sumar_numpy_array tardó 0.00832 segundos con n=5000000\n",
      "[2023-10-11 17:13:36] - La función sumar_pandas_series tardó 0.01625 segundos con n=5000000\n",
      "[2023-10-11 17:13:36] - La función sumar_lista tardó 0.00000 segundos con n=10\n",
      "[2023-10-11 17:13:36] - La función sumar_tupla tardó 0.00000 segundos con n=10\n",
      "[2023-10-11 17:13:36] - La función sumar_objeto tardó 0.00000 segundos con n=10\n",
      "[2023-10-11 17:13:36] - La función sumar_usando_yield tardó 0.00000 segundos con n=10\n",
      "[2023-10-11 17:13:36] - La función sumar_conjunto tardó 0.00000 segundos con n=10\n",
      "[2023-10-11 17:13:36] - La función sumar_valores_diccionario tardó 0.00000 segundos con n=10\n",
      "[2023-10-11 17:13:36] - La función sumar_numpy_array tardó 0.00000 segundos con n=10\n",
      "[2023-10-11 17:13:36] - La función sumar_pandas_series tardó 0.00000 segundos con n=10\n",
      "[2023-10-11 17:13:36] - La función sumar_lista tardó 0.00000 segundos con n=1000\n",
      "[2023-10-11 17:13:36] - La función sumar_tupla tardó 0.00000 segundos con n=1000\n",
      "[2023-10-11 17:13:36] - La función sumar_objeto tardó 0.00100 segundos con n=1000\n",
      "[2023-10-11 17:13:36] - La función sumar_usando_yield tardó 0.00000 segundos con n=1000\n",
      "[2023-10-11 17:13:36] - La función sumar_conjunto tardó 0.00000 segundos con n=1000\n",
      "[2023-10-11 17:13:36] - La función sumar_valores_diccionario tardó 0.00000 segundos con n=1000\n",
      "[2023-10-11 17:13:36] - La función sumar_numpy_array tardó 0.00000 segundos con n=1000\n",
      "[2023-10-11 17:13:36] - La función sumar_pandas_series tardó 0.00099 segundos con n=1000\n",
      "[2023-10-11 17:13:36] - La función sumar_lista tardó 0.00100 segundos con n=10000\n",
      "[2023-10-11 17:13:36] - La función sumar_tupla tardó 0.00100 segundos con n=10000\n",
      "[2023-10-11 17:13:36] - La función sumar_objeto tardó 0.00400 segundos con n=10000\n",
      "[2023-10-11 17:13:36] - La función sumar_usando_yield tardó 0.00100 segundos con n=10000\n",
      "[2023-10-11 17:13:36] - La función sumar_conjunto tardó 0.00000 segundos con n=10000\n",
      "[2023-10-11 17:13:36] - La función sumar_valores_diccionario tardó 0.00100 segundos con n=10000\n",
      "[2023-10-11 17:13:36] - La función sumar_numpy_array tardó 0.00000 segundos con n=10000\n",
      "[2023-10-11 17:13:36] - La función sumar_pandas_series tardó 0.00000 segundos con n=10000\n",
      "[2023-10-11 17:13:36] - La función sumar_lista tardó 0.00298 segundos con n=100000\n",
      "[2023-10-11 17:13:36] - La función sumar_tupla tardó 0.00500 segundos con n=100000\n",
      "[2023-10-11 17:13:36] - La función sumar_objeto tardó 0.02540 segundos con n=100000\n",
      "[2023-10-11 17:13:36] - La función sumar_usando_yield tardó 0.00500 segundos con n=100000\n",
      "[2023-10-11 17:13:36] - La función sumar_conjunto tardó 0.00400 segundos con n=100000\n",
      "[2023-10-11 17:13:36] - La función sumar_valores_diccionario tardó 0.00750 segundos con n=100000\n",
      "[2023-10-11 17:13:36] - La función sumar_numpy_array tardó 0.00000 segundos con n=100000\n",
      "[2023-10-11 17:13:36] - La función sumar_pandas_series tardó 0.00100 segundos con n=100000\n",
      "[2023-10-11 17:13:36] - La función sumar_lista tardó 0.06700 segundos con n=1000000\n",
      "[2023-10-11 17:13:36] - La función sumar_tupla tardó 0.06860 segundos con n=1000000\n",
      "[2023-10-11 17:13:36] - La función sumar_objeto tardó 0.39245 segundos con n=1000000\n",
      "[2023-10-11 17:13:36] - La función sumar_usando_yield tardó 0.05584 segundos con n=1000000\n",
      "[2023-10-11 17:13:36] - La función sumar_conjunto tardó 0.05652 segundos con n=1000000\n",
      "[2023-10-11 17:13:36] - La función sumar_valores_diccionario tardó 0.07972 segundos con n=1000000\n",
      "[2023-10-11 17:13:36] - La función sumar_numpy_array tardó 0.00191 segundos con n=1000000\n",
      "[2023-10-11 17:13:36] - La función sumar_pandas_series tardó 0.00400 segundos con n=1000000\n",
      "[2023-10-11 17:13:37] - La función sumar_lista tardó 0.34391 segundos con n=5000000\n",
      "[2023-10-11 17:13:37] - La función sumar_tupla tardó 0.38188 segundos con n=5000000\n",
      "[2023-10-11 17:13:40] - La función sumar_objeto tardó 3.34484 segundos con n=5000000\n",
      "[2023-10-11 17:13:41] - La función sumar_usando_yield tardó 0.35393 segundos con n=5000000\n",
      "[2023-10-11 17:13:41] - La función sumar_conjunto tardó 0.31603 segundos con n=5000000\n",
      "[2023-10-11 17:13:42] - La función sumar_valores_diccionario tardó 0.46386 segundos con n=5000000\n",
      "[2023-10-11 17:13:42] - La función sumar_numpy_array tardó 0.01002 segundos con n=5000000\n",
      "[2023-10-11 17:13:42] - La función sumar_pandas_series tardó 0.01598 segundos con n=5000000\n"
     ]
    },
    {
     "data": {
      "text/plain": [
       "'/mnt/data/tiempos.txt'"
      ]
     },
     "execution_count": 8,
     "metadata": {},
     "output_type": "execute_result"
    }
   ],
   "source": [
    "for i in range(0,5):\n",
    "    for n in [10, 1000, 10000, 100000, 1000000, 5000000]:\n",
    "        sumar_lista(n)\n",
    "        sumar_tupla(n)\n",
    "        sumar_objeto(n)\n",
    "        sumar_usando_yield(n)\n",
    "        sumar_conjunto(n)\n",
    "        sumar_valores_diccionario(n)\n",
    "        sumar_numpy_array(n)\n",
    "        sumar_pandas_series(n)\n",
    "        # sumar_polars_series(n)\n",
    "\"/mnt/data/tiempos.txt\""
   ]
  },
  {
   "cell_type": "markdown",
   "metadata": {},
   "source": [
    "# Tarea Yield"
   ]
  },
  {
   "cell_type": "markdown",
   "metadata": {},
   "source": [
    "Investiga y explica en tus propias palabras que es un iterador y un el objeto `yield`"
   ]
  },
  {
   "cell_type": "markdown",
   "metadata": {},
   "source": [
    "Explicacion:"
   ]
  },
  {
   "cell_type": "code",
   "execution_count": null,
   "metadata": {},
   "outputs": [],
   "source": []
  }
 ],
 "metadata": {
  "kernelspec": {
   "display_name": "itam",
   "language": "python",
   "name": "python3"
  },
  "language_info": {
   "codemirror_mode": {
    "name": "ipython",
    "version": 3
   },
   "file_extension": ".py",
   "mimetype": "text/x-python",
   "name": "python",
   "nbconvert_exporter": "python",
   "pygments_lexer": "ipython3",
   "version": "3.11.0"
  },
  "orig_nbformat": 4
 },
 "nbformat": 4,
 "nbformat_minor": 2
}
