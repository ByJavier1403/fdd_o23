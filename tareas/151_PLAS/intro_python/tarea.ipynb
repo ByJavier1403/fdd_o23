{
 "cells": [
  {
   "cell_type": "markdown",
   "metadata": {},
   "source": [
    "Antes de hacer algo asegurate de hacer pull del repo de la clase, crear un nuevo branch, copiar esta carpeta a tu carepta de tareas y trabajar sobre ella.  \n",
    "Cuando acabes has git add, commit y pull request a los archivos que modificaste.  \n",
    "Valor de la tarea es de 20 puntos y se entrega el siguiente lunes por la mannana."
   ]
  },
  {
   "cell_type": "markdown",
   "metadata": {},
   "source": [
    "Hay un requirement.txt que puedes utilizar."
   ]
  },
  {
   "cell_type": "markdown",
   "metadata": {},
   "source": [
    "# Tarea: Registro de Actividades con Decoradores y Clases\n",
    "\n"
   ]
  },
  {
   "cell_type": "markdown",
   "metadata": {},
   "source": [
    "Objetivo: Crear un sistema que registre las actividades de una clase Usuario en un archivo de texto."
   ]
  },
  {
   "cell_type": "markdown",
   "metadata": {},
   "source": [
    "## Instrucciones:\n",
    "\n"
   ]
  },
  {
   "cell_type": "markdown",
   "metadata": {},
   "source": [
    "Define un decorador llamado `registrar_actividad` que, cuando se aplique a un método, registre la actividad en un archivo llamado `registro.txt`. La actividad debe tener el formato: \"`[FECHA Y HORA]` - Se ejecutó el método `[NOMBRE DEL MÉTODO]` con los argumentos: `[ARGUMENTOS]`\".\n",
    "\n",
    "Crea una clase llamada Usuario con los siguientes métodos:\n",
    "        `crear(nombre, apellido)`: establece el nombre y apellido del usuario.\n",
    "        `obtener_info()`: devuelve el nombre y apellido del usuario.\n",
    "        `modificar(nombre, apellido)`: modifica el nombre y apellido del usuario.\n",
    "\n",
    "Asegúrate de aplicar el decorador `registrar_actividad` a estos métodos.\n",
    "\n",
    "Implementa la lógica para registrar la actividad utilizando el contexto with para manejar el archivo `registro.txt`."
   ]
  },
  {
   "cell_type": "markdown",
   "metadata": {},
   "source": [
    "Ejemplo de uso:"
   ]
  },
  {
   "cell_type": "markdown",
   "metadata": {},
   "source": [
    "```usuario = Usuario()\n",
    "usuario.crear(\"Ms\", \"Kobayashi\")\n",
    "info = usuario.obtener_info()\n",
    "usuario.modificar(\"Tohru\", \"Kobayashi\")\n",
    "```"
   ]
  },
  {
   "cell_type": "markdown",
   "metadata": {},
   "source": [
    "```\n",
    "[2023-10-05 10:10:10] - Se ejecutó el método crear con los argumentos: ('Ms', 'Kobayashi')\n",
    "[2023-10-05 10:10:15] - Se ejecutó el método obtener_info con los argumentos: ()\n",
    "[2023-10-05 10:10:20] - Se ejecutó el método modificar con los argumentos: ('Tohru', 'Kobayashi')\n",
    "```\n"
   ]
  },
  {
   "cell_type": "markdown",
   "metadata": {},
   "source": [
    "Sugerencias"
   ]
  },
  {
   "cell_type": "markdown",
   "metadata": {},
   "source": [
    "Sugerencias:\n",
    "\n",
    "    Utiliza el módulo datetime para obtener la fecha y hora actual cuando registres una actividad.\n",
    "    En el decorador, usa func.__name__ para obtener el nombre del método que estás registrando."
   ]
  },
  {
   "cell_type": "markdown",
   "metadata": {},
   "source": [
    "## Codigo"
   ]
  },
  {
   "cell_type": "code",
   "execution_count": null,
   "metadata": {},
   "outputs": [],
   "source": [
    "def registrar_actividad(func):\n",
    "    def envoltorio(*args, **kwargs):\n",
    "        resultado = func(*args,**kwargs)\n",
    "        with open('registro.txt', 'a') as file:\n",
    "            file.write(f\"\")\n",
    "        return None\n",
    "    return envoltorio"
   ]
  },
  {
   "cell_type": "code",
   "execution_count": null,
   "metadata": {},
   "outputs": [],
   "source": []
  },
  {
   "cell_type": "markdown",
   "metadata": {},
   "source": [
    "# Tarea: Evaluación de Tiempos de Ejecución"
   ]
  },
  {
   "cell_type": "markdown",
   "metadata": {},
   "source": [
    "Objetivo: Utilizar un decorador para medir y registrar los tiempos de ejecución de diversas operaciones en Python, y guardar los resultados en un archivo llamado tiempos.txt."
   ]
  },
  {
   "cell_type": "markdown",
   "metadata": {},
   "source": [
    "## Instrucciones"
   ]
  },
  {
   "cell_type": "markdown",
   "metadata": {},
   "source": [
    "Define un decorador llamado medir_tiempo que registre el tiempo que tarda en ejecutarse la función decorada. El decorador debe escribir el tiempo de ejecución, junto con el nombre de la función, y el tamano del arreglo, en el archivo tiempos.txt, **separados por comas**. Basicamente un `csv` donde se guarden los tiempos de ejecucion.  \n",
    "\n",
    "La primera linea del archivo debe de representar el nombre de las columnas, las siguientes lineas representan las observaciones:\n",
    "`funcion,n,tiempo`."
   ]
  },
  {
   "cell_type": "markdown",
   "metadata": {},
   "source": [
    "Ejecuta las funciones con diferentes valores de n = [10, 1000, 10000, 100000, 1000000, 5000000] para generar datos en tiempos.txt.  \n",
    "Corre cada funcion al menos unas 5 veces para cada tamanno del arreglo. Asegurate de no sobreescribir el archivo txt para que no se elimine la ejecucion."
   ]
  },
  {
   "cell_type": "markdown",
   "metadata": {},
   "source": [
    "## Ejemplo de Uso"
   ]
  },
  {
   "cell_type": "markdown",
   "metadata": {},
   "source": [
    "```\n",
    "iterar_lista(10000)\n",
    "iterar_tupla(10000)\n",
    "iterar_objeto(10000)\n",
    "usar_yield(10000)\n",
    "\n",
    "```"
   ]
  },
  {
   "cell_type": "markdown",
   "metadata": {},
   "source": [
    "```\n",
    "[2023-10-05 10:10:10] - La función iterar_lista tardó 0.00123 segundos con n=10000\n",
    "[2023-10-05 10:10:11] - La función iterar_tupla tardó 0.00120 segundos con n=10000\n",
    "[2023-10-05 10:10:12] - La función iterar_objeto tardó 0.00543 segundos con n=10000\n",
    "[2023-10-05 10:10:13] - La función usar_yield tardó 0.00093 segundos con n=10000\n",
    "\n",
    "```"
   ]
  },
  {
   "cell_type": "markdown",
   "metadata": {},
   "source": [
    "```\n",
    "tiempos.txt:\n",
    "funcion,n,tiempo,\n",
    "asd,1000,10\n",
    "```"
   ]
  },
  {
   "cell_type": "markdown",
   "metadata": {},
   "source": [
    "## Codigo"
   ]
  },
  {
   "cell_type": "code",
   "execution_count": 1,
   "metadata": {},
   "outputs": [],
   "source": [
    "import time\n",
    "import datetime\n",
    "import numpy as np\n",
    "import pandas as pd\n",
    "import polars as pl\n",
    "\n",
    "def medir_tiempo(func):\n",
    "    def envoltorio(*args, **kwargs):\n",
    "        inicio = time.time()\n",
    "        func(*args,**kwargs)\n",
    "        fin = time.time()\n",
    "        now = datetime.datetime.now()\n",
    "        now = now.strftime(\"[%Y-%m-%d %H:%M:%S]\")\n",
    "        nombre = func.__name__\n",
    "        cantidad = args[0]\n",
    "        tiempo = round(fin-inicio,5)\n",
    "        print(f\"{now} - La función {nombre} tardó {tiempo} segundos con n={cantidad}\")\n",
    "        with open('tiempos.txt', 'a') as file:\n",
    "            file.write(f\"{nombre}, {cantidad}, {tiempo}\\n\")\n",
    "        return None\n",
    "    return envoltorio\n",
    "\n",
    "\n",
    "@medir_tiempo\n",
    "def sumar_lista(n):\n",
    "    lista = [i for i in range(n)]\n",
    "    return sum(lista)\n",
    "\n",
    "@medir_tiempo\n",
    "def sumar_tupla(n):\n",
    "    tupla = tuple(i for i in range(n))\n",
    "    return sum(tupla)\n",
    "\n",
    "@medir_tiempo\n",
    "def sumar_objeto(n):\n",
    "    class ClaseEjemplo:\n",
    "        def __init__(self, numero):\n",
    "            self.numero = numero\n",
    "            \n",
    "    objetos = [ClaseEjemplo(i) for i in range(n)]\n",
    "    return sum(obj.numero for obj in objetos)\n",
    "\n",
    "@medir_tiempo\n",
    "def sumar_usando_yield(n):\n",
    "    def generador():\n",
    "        for i in range(n):\n",
    "            yield i\n",
    "            \n",
    "    return sum(generador())\n",
    "\n",
    "@medir_tiempo\n",
    "def sumar_conjunto(n):\n",
    "    conjunto = set(range(n))\n",
    "    return sum(conjunto)\n",
    "\n",
    "@medir_tiempo\n",
    "def sumar_valores_diccionario(n):\n",
    "    diccionario = {i: i for i in range(n)}\n",
    "    return sum(diccionario.values())\n",
    "\n",
    "@medir_tiempo\n",
    "def sumar_numpy_array(n):\n",
    "    array = np.arange(n)\n",
    "    return np.sum(array)\n",
    "\n",
    "@medir_tiempo\n",
    "def sumar_pandas_series(n):\n",
    "    serie = pd.Series(range(n))\n",
    "    return serie.sum()\n",
    "\n",
    "@medir_tiempo\n",
    "def sumar_polars_series(n):\n",
    "    serie = pl.Series(\"valores\", list(range(n)))\n",
    "    return serie.sum()"
   ]
  },
  {
   "cell_type": "code",
   "execution_count": 2,
   "metadata": {},
   "outputs": [
    {
     "name": "stdout",
     "output_type": "stream",
     "text": [
      "[2023-10-10 23:57:40] - La función sumar_lista tardó 0.0 segundos con n=10\n",
      "[2023-10-10 23:57:40] - La función sumar_tupla tardó 1e-05 segundos con n=10\n",
      "[2023-10-10 23:57:40] - La función sumar_objeto tardó 8e-05 segundos con n=10\n",
      "[2023-10-10 23:57:40] - La función sumar_usando_yield tardó 1e-05 segundos con n=10\n",
      "[2023-10-10 23:57:40] - La función sumar_conjunto tardó 1e-05 segundos con n=10\n",
      "[2023-10-10 23:57:40] - La función sumar_valores_diccionario tardó 1e-05 segundos con n=10\n",
      "[2023-10-10 23:57:40] - La función sumar_numpy_array tardó 0.00049 segundos con n=10\n",
      "[2023-10-10 23:57:40] - La función sumar_pandas_series tardó 0.00159 segundos con n=10\n",
      "[2023-10-10 23:57:40] - La función sumar_polars_series tardó 0.003 segundos con n=10\n",
      "[2023-10-10 23:57:40] - La función sumar_lista tardó 9e-05 segundos con n=1000\n",
      "[2023-10-10 23:57:40] - La función sumar_tupla tardó 0.0001 segundos con n=1000\n",
      "[2023-10-10 23:57:40] - La función sumar_objeto tardó 0.00079 segundos con n=1000\n",
      "[2023-10-10 23:57:40] - La función sumar_usando_yield tardó 8e-05 segundos con n=1000\n",
      "[2023-10-10 23:57:40] - La función sumar_conjunto tardó 5e-05 segundos con n=1000\n",
      "[2023-10-10 23:57:40] - La función sumar_valores_diccionario tardó 0.0001 segundos con n=1000\n",
      "[2023-10-10 23:57:40] - La función sumar_numpy_array tardó 8e-05 segundos con n=1000\n",
      "[2023-10-10 23:57:40] - La función sumar_pandas_series tardó 0.00033 segundos con n=1000\n",
      "[2023-10-10 23:57:40] - La función sumar_polars_series tardó 0.0002 segundos con n=1000\n",
      "[2023-10-10 23:57:40] - La función sumar_lista tardó 0.00041 segundos con n=10000\n",
      "[2023-10-10 23:57:40] - La función sumar_tupla tardó 0.00049 segundos con n=10000\n",
      "[2023-10-10 23:57:40] - La función sumar_objeto tardó 0.00579 segundos con n=10000\n",
      "[2023-10-10 23:57:40] - La función sumar_usando_yield tardó 0.00038 segundos con n=10000\n",
      "[2023-10-10 23:57:40] - La función sumar_conjunto tardó 0.00064 segundos con n=10000\n",
      "[2023-10-10 23:57:40] - La función sumar_valores_diccionario tardó 0.00063 segundos con n=10000\n",
      "[2023-10-10 23:57:40] - La función sumar_numpy_array tardó 9e-05 segundos con n=10000\n",
      "[2023-10-10 23:57:40] - La función sumar_pandas_series tardó 0.00028 segundos con n=10000\n",
      "[2023-10-10 23:57:40] - La función sumar_polars_series tardó 0.00044 segundos con n=10000\n",
      "[2023-10-10 23:57:40] - La función sumar_lista tardó 0.00473 segundos con n=100000\n",
      "[2023-10-10 23:57:40] - La función sumar_tupla tardó 0.00701 segundos con n=100000\n",
      "[2023-10-10 23:57:40] - La función sumar_objeto tardó 0.09322 segundos con n=100000\n",
      "[2023-10-10 23:57:40] - La función sumar_usando_yield tardó 0.00384 segundos con n=100000\n",
      "[2023-10-10 23:57:40] - La función sumar_conjunto tardó 0.00656 segundos con n=100000\n",
      "[2023-10-10 23:57:40] - La función sumar_valores_diccionario tardó 0.00988 segundos con n=100000\n",
      "[2023-10-10 23:57:40] - La función sumar_numpy_array tardó 0.00018 segundos con n=100000\n",
      "[2023-10-10 23:57:40] - La función sumar_pandas_series tardó 0.00029 segundos con n=100000\n",
      "[2023-10-10 23:57:40] - La función sumar_polars_series tardó 0.00528 segundos con n=100000\n",
      "[2023-10-10 23:57:41] - La función sumar_lista tardó 0.05904 segundos con n=1000000\n",
      "[2023-10-10 23:57:41] - La función sumar_tupla tardó 0.08142 segundos con n=1000000\n",
      "[2023-10-10 23:57:42] - La función sumar_objeto tardó 0.93732 segundos con n=1000000\n",
      "[2023-10-10 23:57:42] - La función sumar_usando_yield tardó 0.04011 segundos con n=1000000\n",
      "[2023-10-10 23:57:42] - La función sumar_conjunto tardó 0.06226 segundos con n=1000000\n",
      "[2023-10-10 23:57:42] - La función sumar_valores_diccionario tardó 0.09097 segundos con n=1000000\n",
      "[2023-10-10 23:57:42] - La función sumar_numpy_array tardó 0.00123 segundos con n=1000000\n",
      "[2023-10-10 23:57:42] - La función sumar_pandas_series tardó 0.00128 segundos con n=1000000\n",
      "[2023-10-10 23:57:42] - La función sumar_polars_series tardó 0.05485 segundos con n=1000000\n",
      "[2023-10-10 23:57:42] - La función sumar_lista tardó 0.27397 segundos con n=5000000\n",
      "[2023-10-10 23:57:42] - La función sumar_tupla tardó 0.31097 segundos con n=5000000\n",
      "[2023-10-10 23:57:48] - La función sumar_objeto tardó 5.47476 segundos con n=5000000\n",
      "[2023-10-10 23:57:48] - La función sumar_usando_yield tardó 0.19334 segundos con n=5000000\n",
      "[2023-10-10 23:57:48] - La función sumar_conjunto tardó 0.31582 segundos con n=5000000\n",
      "[2023-10-10 23:57:49] - La función sumar_valores_diccionario tardó 0.71316 segundos con n=5000000\n",
      "[2023-10-10 23:57:49] - La función sumar_numpy_array tardó 0.02593 segundos con n=5000000\n",
      "[2023-10-10 23:57:49] - La función sumar_pandas_series tardó 0.00744 segundos con n=5000000\n",
      "[2023-10-10 23:57:49] - La función sumar_polars_series tardó 0.28424 segundos con n=5000000\n",
      "[2023-10-10 23:57:49] - La función sumar_lista tardó 1e-05 segundos con n=10\n",
      "[2023-10-10 23:57:49] - La función sumar_tupla tardó 1e-05 segundos con n=10\n",
      "[2023-10-10 23:57:49] - La función sumar_objeto tardó 8e-05 segundos con n=10\n",
      "[2023-10-10 23:57:49] - La función sumar_usando_yield tardó 1e-05 segundos con n=10\n",
      "[2023-10-10 23:57:49] - La función sumar_conjunto tardó 0.0 segundos con n=10\n",
      "[2023-10-10 23:57:49] - La función sumar_valores_diccionario tardó 0.0 segundos con n=10\n",
      "[2023-10-10 23:57:49] - La función sumar_numpy_array tardó 5e-05 segundos con n=10\n",
      "[2023-10-10 23:57:49] - La función sumar_pandas_series tardó 0.0002 segundos con n=10\n",
      "[2023-10-10 23:57:49] - La función sumar_polars_series tardó 0.00021 segundos con n=10\n",
      "[2023-10-10 23:57:49] - La función sumar_lista tardó 4e-05 segundos con n=1000\n",
      "[2023-10-10 23:57:49] - La función sumar_tupla tardó 5e-05 segundos con n=1000\n",
      "[2023-10-10 23:57:49] - La función sumar_objeto tardó 0.00034 segundos con n=1000\n",
      "[2023-10-10 23:57:49] - La función sumar_usando_yield tardó 4e-05 segundos con n=1000\n",
      "[2023-10-10 23:57:49] - La función sumar_conjunto tardó 4e-05 segundos con n=1000\n",
      "[2023-10-10 23:57:49] - La función sumar_valores_diccionario tardó 7e-05 segundos con n=1000\n",
      "[2023-10-10 23:57:49] - La función sumar_numpy_array tardó 3e-05 segundos con n=1000\n",
      "[2023-10-10 23:57:49] - La función sumar_pandas_series tardó 0.00023 segundos con n=1000\n",
      "[2023-10-10 23:57:49] - La función sumar_polars_series tardó 0.00021 segundos con n=1000\n",
      "[2023-10-10 23:57:49] - La función sumar_lista tardó 0.00031 segundos con n=10000\n",
      "[2023-10-10 23:57:49] - La función sumar_tupla tardó 0.00046 segundos con n=10000\n",
      "[2023-10-10 23:57:49] - La función sumar_objeto tardó 0.00338 segundos con n=10000\n",
      "[2023-10-10 23:57:49] - La función sumar_usando_yield tardó 0.0004 segundos con n=10000\n",
      "[2023-10-10 23:57:49] - La función sumar_conjunto tardó 0.0004 segundos con n=10000\n",
      "[2023-10-10 23:57:49] - La función sumar_valores_diccionario tardó 0.00062 segundos con n=10000\n",
      "[2023-10-10 23:57:49] - La función sumar_numpy_array tardó 4e-05 segundos con n=10000\n",
      "[2023-10-10 23:57:49] - La función sumar_pandas_series tardó 0.00016 segundos con n=10000\n",
      "[2023-10-10 23:57:49] - La función sumar_polars_series tardó 0.00064 segundos con n=10000\n",
      "[2023-10-10 23:57:49] - La función sumar_lista tardó 0.00412 segundos con n=100000\n",
      "[2023-10-10 23:57:49] - La función sumar_tupla tardó 0.0045 segundos con n=100000\n",
      "[2023-10-10 23:57:49] - La función sumar_objeto tardó 0.03751 segundos con n=100000\n",
      "[2023-10-10 23:57:49] - La función sumar_usando_yield tardó 0.00419 segundos con n=100000\n",
      "[2023-10-10 23:57:49] - La función sumar_conjunto tardó 0.00457 segundos con n=100000\n",
      "[2023-10-10 23:57:49] - La función sumar_valores_diccionario tardó 0.00756 segundos con n=100000\n",
      "[2023-10-10 23:57:49] - La función sumar_numpy_array tardó 0.00031 segundos con n=100000\n",
      "[2023-10-10 23:57:49] - La función sumar_pandas_series tardó 0.00034 segundos con n=100000\n",
      "[2023-10-10 23:57:49] - La función sumar_polars_series tardó 0.00501 segundos con n=100000\n",
      "[2023-10-10 23:57:50] - La función sumar_lista tardó 0.04979 segundos con n=1000000\n",
      "[2023-10-10 23:57:50] - La función sumar_tupla tardó 0.14423 segundos con n=1000000\n",
      "[2023-10-10 23:57:51] - La función sumar_objeto tardó 0.92073 segundos con n=1000000\n",
      "[2023-10-10 23:57:51] - La función sumar_usando_yield tardó 0.09176 segundos con n=1000000\n",
      "[2023-10-10 23:57:51] - La función sumar_conjunto tardó 0.18029 segundos con n=1000000\n",
      "[2023-10-10 23:57:51] - La función sumar_valores_diccionario tardó 0.28633 segundos con n=1000000\n",
      "[2023-10-10 23:57:51] - La función sumar_numpy_array tardó 0.00336 segundos con n=1000000\n",
      "[2023-10-10 23:57:51] - La función sumar_pandas_series tardó 0.00406 segundos con n=1000000\n",
      "[2023-10-10 23:57:51] - La función sumar_polars_series tardó 0.13788 segundos con n=1000000\n",
      "[2023-10-10 23:57:52] - La función sumar_lista tardó 0.38966 segundos con n=5000000\n",
      "[2023-10-10 23:57:52] - La función sumar_tupla tardó 0.30448 segundos con n=5000000\n",
      "[2023-10-10 23:57:57] - La función sumar_objeto tardó 5.11692 segundos con n=5000000\n",
      "[2023-10-10 23:57:57] - La función sumar_usando_yield tardó 0.19934 segundos con n=5000000\n",
      "[2023-10-10 23:57:58] - La función sumar_conjunto tardó 0.29489 segundos con n=5000000\n",
      "[2023-10-10 23:57:58] - La función sumar_valores_diccionario tardó 0.50856 segundos con n=5000000\n",
      "[2023-10-10 23:57:58] - La función sumar_numpy_array tardó 0.00871 segundos con n=5000000\n",
      "[2023-10-10 23:57:58] - La función sumar_pandas_series tardó 0.00854 segundos con n=5000000\n",
      "[2023-10-10 23:57:59] - La función sumar_polars_series tardó 0.3575 segundos con n=5000000\n",
      "[2023-10-10 23:57:59] - La función sumar_lista tardó 1e-05 segundos con n=10\n",
      "[2023-10-10 23:57:59] - La función sumar_tupla tardó 1e-05 segundos con n=10\n",
      "[2023-10-10 23:57:59] - La función sumar_objeto tardó 4e-05 segundos con n=10\n",
      "[2023-10-10 23:57:59] - La función sumar_usando_yield tardó 0.0 segundos con n=10\n",
      "[2023-10-10 23:57:59] - La función sumar_conjunto tardó 0.0 segundos con n=10\n",
      "[2023-10-10 23:57:59] - La función sumar_valores_diccionario tardó 0.0 segundos con n=10\n",
      "[2023-10-10 23:57:59] - La función sumar_numpy_array tardó 5e-05 segundos con n=10\n",
      "[2023-10-10 23:57:59] - La función sumar_pandas_series tardó 0.00018 segundos con n=10\n",
      "[2023-10-10 23:57:59] - La función sumar_polars_series tardó 0.00019 segundos con n=10\n",
      "[2023-10-10 23:57:59] - La función sumar_lista tardó 4e-05 segundos con n=1000\n",
      "[2023-10-10 23:57:59] - La función sumar_tupla tardó 5e-05 segundos con n=1000\n",
      "[2023-10-10 23:57:59] - La función sumar_objeto tardó 0.00034 segundos con n=1000\n",
      "[2023-10-10 23:57:59] - La función sumar_usando_yield tardó 4e-05 segundos con n=1000\n",
      "[2023-10-10 23:57:59] - La función sumar_conjunto tardó 4e-05 segundos con n=1000\n",
      "[2023-10-10 23:57:59] - La función sumar_valores_diccionario tardó 8e-05 segundos con n=1000\n",
      "[2023-10-10 23:57:59] - La función sumar_numpy_array tardó 4e-05 segundos con n=1000\n",
      "[2023-10-10 23:57:59] - La función sumar_pandas_series tardó 0.00015 segundos con n=1000\n",
      "[2023-10-10 23:57:59] - La función sumar_polars_series tardó 0.00021 segundos con n=1000\n",
      "[2023-10-10 23:57:59] - La función sumar_lista tardó 0.0003 segundos con n=10000\n",
      "[2023-10-10 23:57:59] - La función sumar_tupla tardó 0.00044 segundos con n=10000\n",
      "[2023-10-10 23:57:59] - La función sumar_objeto tardó 0.0033 segundos con n=10000\n",
      "[2023-10-10 23:57:59] - La función sumar_usando_yield tardó 0.0004 segundos con n=10000\n",
      "[2023-10-10 23:57:59] - La función sumar_conjunto tardó 0.0004 segundos con n=10000\n",
      "[2023-10-10 23:57:59] - La función sumar_valores_diccionario tardó 0.00061 segundos con n=10000\n",
      "[2023-10-10 23:57:59] - La función sumar_numpy_array tardó 8e-05 segundos con n=10000\n",
      "[2023-10-10 23:57:59] - La función sumar_pandas_series tardó 0.00021 segundos con n=10000\n",
      "[2023-10-10 23:57:59] - La función sumar_polars_series tardó 0.00065 segundos con n=10000\n",
      "[2023-10-10 23:57:59] - La función sumar_lista tardó 0.00331 segundos con n=100000\n",
      "[2023-10-10 23:57:59] - La función sumar_tupla tardó 0.00663 segundos con n=100000\n",
      "[2023-10-10 23:57:59] - La función sumar_objeto tardó 0.03589 segundos con n=100000\n",
      "[2023-10-10 23:57:59] - La función sumar_usando_yield tardó 0.00418 segundos con n=100000\n",
      "[2023-10-10 23:57:59] - La función sumar_conjunto tardó 0.00451 segundos con n=100000\n",
      "[2023-10-10 23:57:59] - La función sumar_valores_diccionario tardó 0.00737 segundos con n=100000\n",
      "[2023-10-10 23:57:59] - La función sumar_numpy_array tardó 0.00019 segundos con n=100000\n",
      "[2023-10-10 23:57:59] - La función sumar_pandas_series tardó 0.00029 segundos con n=100000\n",
      "[2023-10-10 23:57:59] - La función sumar_polars_series tardó 0.00569 segundos con n=100000\n",
      "[2023-10-10 23:57:59] - La función sumar_lista tardó 0.07739 segundos con n=1000000\n",
      "[2023-10-10 23:57:59] - La función sumar_tupla tardó 0.16927 segundos con n=1000000\n",
      "[2023-10-10 23:58:01] - La función sumar_objeto tardó 1.79916 segundos con n=1000000\n",
      "[2023-10-10 23:58:01] - La función sumar_usando_yield tardó 0.09939 segundos con n=1000000\n",
      "[2023-10-10 23:58:01] - La función sumar_conjunto tardó 0.1849 segundos con n=1000000\n",
      "[2023-10-10 23:58:01] - La función sumar_valores_diccionario tardó 0.28861 segundos con n=1000000\n",
      "[2023-10-10 23:58:01] - La función sumar_numpy_array tardó 0.00339 segundos con n=1000000\n",
      "[2023-10-10 23:58:01] - La función sumar_pandas_series tardó 0.00317 segundos con n=1000000\n",
      "[2023-10-10 23:58:01] - La función sumar_polars_series tardó 0.11676 segundos con n=1000000\n",
      "[2023-10-10 23:58:02] - La función sumar_lista tardó 0.44462 segundos con n=5000000\n",
      "[2023-10-10 23:58:02] - La función sumar_tupla tardó 0.3026 segundos con n=5000000\n",
      "[2023-10-10 23:58:07] - La función sumar_objeto tardó 5.40603 segundos con n=5000000\n",
      "[2023-10-10 23:58:08] - La función sumar_usando_yield tardó 0.19477 segundos con n=5000000\n",
      "[2023-10-10 23:58:08] - La función sumar_conjunto tardó 0.55883 segundos con n=5000000\n",
      "[2023-10-10 23:58:10] - La función sumar_valores_diccionario tardó 1.26656 segundos con n=5000000\n",
      "[2023-10-10 23:58:10] - La función sumar_numpy_array tardó 0.02821 segundos con n=5000000\n",
      "[2023-10-10 23:58:10] - La función sumar_pandas_series tardó 0.01132 segundos con n=5000000\n",
      "[2023-10-10 23:58:10] - La función sumar_polars_series tardó 0.41505 segundos con n=5000000\n",
      "[2023-10-10 23:58:10] - La función sumar_lista tardó 5e-05 segundos con n=10\n",
      "[2023-10-10 23:58:10] - La función sumar_tupla tardó 1e-05 segundos con n=10\n",
      "[2023-10-10 23:58:10] - La función sumar_objeto tardó 3e-05 segundos con n=10\n",
      "[2023-10-10 23:58:10] - La función sumar_usando_yield tardó 0.0 segundos con n=10\n",
      "[2023-10-10 23:58:10] - La función sumar_conjunto tardó 0.0 segundos con n=10\n",
      "[2023-10-10 23:58:10] - La función sumar_valores_diccionario tardó 1e-05 segundos con n=10\n",
      "[2023-10-10 23:58:10] - La función sumar_numpy_array tardó 5e-05 segundos con n=10\n",
      "[2023-10-10 23:58:10] - La función sumar_pandas_series tardó 0.00017 segundos con n=10\n",
      "[2023-10-10 23:58:10] - La función sumar_polars_series tardó 0.00019 segundos con n=10\n",
      "[2023-10-10 23:58:10] - La función sumar_lista tardó 4e-05 segundos con n=1000\n",
      "[2023-10-10 23:58:10] - La función sumar_tupla tardó 5e-05 segundos con n=1000\n",
      "[2023-10-10 23:58:10] - La función sumar_objeto tardó 0.00034 segundos con n=1000\n",
      "[2023-10-10 23:58:10] - La función sumar_usando_yield tardó 4e-05 segundos con n=1000\n",
      "[2023-10-10 23:58:10] - La función sumar_conjunto tardó 4e-05 segundos con n=1000\n",
      "[2023-10-10 23:58:10] - La función sumar_valores_diccionario tardó 7e-05 segundos con n=1000\n",
      "[2023-10-10 23:58:10] - La función sumar_numpy_array tardó 3e-05 segundos con n=1000\n",
      "[2023-10-10 23:58:10] - La función sumar_pandas_series tardó 0.00014 segundos con n=1000\n",
      "[2023-10-10 23:58:10] - La función sumar_polars_series tardó 0.00019 segundos con n=1000\n",
      "[2023-10-10 23:58:10] - La función sumar_lista tardó 0.0003 segundos con n=10000\n",
      "[2023-10-10 23:58:10] - La función sumar_tupla tardó 0.00045 segundos con n=10000\n",
      "[2023-10-10 23:58:10] - La función sumar_objeto tardó 0.00311 segundos con n=10000\n",
      "[2023-10-10 23:58:10] - La función sumar_usando_yield tardó 0.00038 segundos con n=10000\n",
      "[2023-10-10 23:58:10] - La función sumar_conjunto tardó 0.0004 segundos con n=10000\n",
      "[2023-10-10 23:58:10] - La función sumar_valores_diccionario tardó 0.0006 segundos con n=10000\n",
      "[2023-10-10 23:58:10] - La función sumar_numpy_array tardó 4e-05 segundos con n=10000\n",
      "[2023-10-10 23:58:10] - La función sumar_pandas_series tardó 0.00016 segundos con n=10000\n",
      "[2023-10-10 23:58:10] - La función sumar_polars_series tardó 0.00054 segundos con n=10000\n",
      "[2023-10-10 23:58:10] - La función sumar_lista tardó 0.00389 segundos con n=100000\n",
      "[2023-10-10 23:58:10] - La función sumar_tupla tardó 0.00471 segundos con n=100000\n",
      "[2023-10-10 23:58:10] - La función sumar_objeto tardó 0.03461 segundos con n=100000\n",
      "[2023-10-10 23:58:10] - La función sumar_usando_yield tardó 0.00385 segundos con n=100000\n",
      "[2023-10-10 23:58:10] - La función sumar_conjunto tardó 0.00493 segundos con n=100000\n",
      "[2023-10-10 23:58:10] - La función sumar_valores_diccionario tardó 0.00847 segundos con n=100000\n",
      "[2023-10-10 23:58:10] - La función sumar_numpy_array tardó 0.00017 segundos con n=100000\n",
      "[2023-10-10 23:58:10] - La función sumar_pandas_series tardó 0.00026 segundos con n=100000\n",
      "[2023-10-10 23:58:10] - La función sumar_polars_series tardó 0.00396 segundos con n=100000\n",
      "[2023-10-10 23:58:10] - La función sumar_lista tardó 0.04534 segundos con n=1000000\n",
      "[2023-10-10 23:58:10] - La función sumar_tupla tardó 0.05763 segundos con n=1000000\n",
      "[2023-10-10 23:58:11] - La función sumar_objeto tardó 0.50709 segundos con n=1000000\n",
      "[2023-10-10 23:58:11] - La función sumar_usando_yield tardó 0.04287 segundos con n=1000000\n",
      "[2023-10-10 23:58:11] - La función sumar_conjunto tardó 0.07064 segundos con n=1000000\n",
      "[2023-10-10 23:58:11] - La función sumar_valores_diccionario tardó 0.11088 segundos con n=1000000\n",
      "[2023-10-10 23:58:11] - La función sumar_numpy_array tardó 0.00183 segundos con n=1000000\n",
      "[2023-10-10 23:58:11] - La función sumar_pandas_series tardó 0.00171 segundos con n=1000000\n",
      "[2023-10-10 23:58:11] - La función sumar_polars_series tardó 0.07662 segundos con n=1000000\n",
      "[2023-10-10 23:58:11] - La función sumar_lista tardó 0.25631 segundos con n=5000000\n",
      "[2023-10-10 23:58:12] - La función sumar_tupla tardó 0.30963 segundos con n=5000000\n",
      "[2023-10-10 23:58:18] - La función sumar_objeto tardó 6.72115 segundos con n=5000000\n",
      "[2023-10-10 23:58:19] - La función sumar_usando_yield tardó 0.58891 segundos con n=5000000\n",
      "[2023-10-10 23:58:19] - La función sumar_conjunto tardó 0.49305 segundos con n=5000000\n",
      "[2023-10-10 23:58:20] - La función sumar_valores_diccionario tardó 0.46219 segundos con n=5000000\n",
      "[2023-10-10 23:58:20] - La función sumar_numpy_array tardó 0.007 segundos con n=5000000\n",
      "[2023-10-10 23:58:20] - La función sumar_pandas_series tardó 0.00657 segundos con n=5000000\n",
      "[2023-10-10 23:58:20] - La función sumar_polars_series tardó 0.28405 segundos con n=5000000\n",
      "[2023-10-10 23:58:20] - La función sumar_lista tardó 1e-05 segundos con n=10\n",
      "[2023-10-10 23:58:20] - La función sumar_tupla tardó 1e-05 segundos con n=10\n",
      "[2023-10-10 23:58:20] - La función sumar_objeto tardó 3e-05 segundos con n=10\n",
      "[2023-10-10 23:58:20] - La función sumar_usando_yield tardó 0.0 segundos con n=10\n",
      "[2023-10-10 23:58:20] - La función sumar_conjunto tardó 0.0 segundos con n=10\n",
      "[2023-10-10 23:58:20] - La función sumar_valores_diccionario tardó 0.0 segundos con n=10\n",
      "[2023-10-10 23:58:20] - La función sumar_numpy_array tardó 5e-05 segundos con n=10\n",
      "[2023-10-10 23:58:20] - La función sumar_pandas_series tardó 0.00018 segundos con n=10\n",
      "[2023-10-10 23:58:20] - La función sumar_polars_series tardó 0.0002 segundos con n=10\n",
      "[2023-10-10 23:58:20] - La función sumar_lista tardó 4e-05 segundos con n=1000\n",
      "[2023-10-10 23:58:20] - La función sumar_tupla tardó 5e-05 segundos con n=1000\n",
      "[2023-10-10 23:58:20] - La función sumar_objeto tardó 0.00033 segundos con n=1000\n",
      "[2023-10-10 23:58:20] - La función sumar_usando_yield tardó 4e-05 segundos con n=1000\n",
      "[2023-10-10 23:58:20] - La función sumar_conjunto tardó 4e-05 segundos con n=1000\n",
      "[2023-10-10 23:58:20] - La función sumar_valores_diccionario tardó 7e-05 segundos con n=1000\n",
      "[2023-10-10 23:58:20] - La función sumar_numpy_array tardó 3e-05 segundos con n=1000\n",
      "[2023-10-10 23:58:20] - La función sumar_pandas_series tardó 0.00014 segundos con n=1000\n",
      "[2023-10-10 23:58:20] - La función sumar_polars_series tardó 0.00019 segundos con n=1000\n",
      "[2023-10-10 23:58:20] - La función sumar_lista tardó 0.0003 segundos con n=10000\n",
      "[2023-10-10 23:58:20] - La función sumar_tupla tardó 0.00044 segundos con n=10000\n",
      "[2023-10-10 23:58:20] - La función sumar_objeto tardó 0.00307 segundos con n=10000\n",
      "[2023-10-10 23:58:20] - La función sumar_usando_yield tardó 0.00038 segundos con n=10000\n",
      "[2023-10-10 23:58:20] - La función sumar_conjunto tardó 0.0004 segundos con n=10000\n",
      "[2023-10-10 23:58:20] - La función sumar_valores_diccionario tardó 0.0006 segundos con n=10000\n",
      "[2023-10-10 23:58:20] - La función sumar_numpy_array tardó 4e-05 segundos con n=10000\n",
      "[2023-10-10 23:58:20] - La función sumar_pandas_series tardó 0.00016 segundos con n=10000\n",
      "[2023-10-10 23:58:20] - La función sumar_polars_series tardó 0.00054 segundos con n=10000\n",
      "[2023-10-10 23:58:20] - La función sumar_lista tardó 0.00323 segundos con n=100000\n",
      "[2023-10-10 23:58:20] - La función sumar_tupla tardó 0.00534 segundos con n=100000\n",
      "[2023-10-10 23:58:20] - La función sumar_objeto tardó 0.03695 segundos con n=100000\n",
      "[2023-10-10 23:58:20] - La función sumar_usando_yield tardó 0.00377 segundos con n=100000\n",
      "[2023-10-10 23:58:20] - La función sumar_conjunto tardó 0.00447 segundos con n=100000\n",
      "[2023-10-10 23:58:20] - La función sumar_valores_diccionario tardó 0.0085 segundos con n=100000\n",
      "[2023-10-10 23:58:20] - La función sumar_numpy_array tardó 0.00019 segundos con n=100000\n",
      "[2023-10-10 23:58:20] - La función sumar_pandas_series tardó 0.00028 segundos con n=100000\n",
      "[2023-10-10 23:58:20] - La función sumar_polars_series tardó 0.00441 segundos con n=100000\n",
      "[2023-10-10 23:58:20] - La función sumar_lista tardó 0.04987 segundos con n=1000000\n",
      "[2023-10-10 23:58:20] - La función sumar_tupla tardó 0.07197 segundos con n=1000000\n",
      "[2023-10-10 23:58:21] - La función sumar_objeto tardó 0.93891 segundos con n=1000000\n",
      "[2023-10-10 23:58:21] - La función sumar_usando_yield tardó 0.09976 segundos con n=1000000\n",
      "[2023-10-10 23:58:21] - La función sumar_conjunto tardó 0.14672 segundos con n=1000000\n",
      "[2023-10-10 23:58:22] - La función sumar_valores_diccionario tardó 0.2118 segundos con n=1000000\n",
      "[2023-10-10 23:58:22] - La función sumar_numpy_array tardó 0.00203 segundos con n=1000000\n",
      "[2023-10-10 23:58:22] - La función sumar_pandas_series tardó 0.00227 segundos con n=1000000\n",
      "[2023-10-10 23:58:22] - La función sumar_polars_series tardó 0.12091 segundos con n=1000000\n",
      "[2023-10-10 23:58:22] - La función sumar_lista tardó 0.57513 segundos con n=5000000\n",
      "[2023-10-10 23:58:23] - La función sumar_tupla tardó 0.70188 segundos con n=5000000\n",
      "[2023-10-10 23:58:29] - La función sumar_objeto tardó 5.62452 segundos con n=5000000\n",
      "[2023-10-10 23:58:29] - La función sumar_usando_yield tardó 0.21264 segundos con n=5000000\n",
      "[2023-10-10 23:58:29] - La función sumar_conjunto tardó 0.32658 segundos con n=5000000\n",
      "[2023-10-10 23:58:30] - La función sumar_valores_diccionario tardó 0.44901 segundos con n=5000000\n",
      "[2023-10-10 23:58:30] - La función sumar_numpy_array tardó 0.00626 segundos con n=5000000\n",
      "[2023-10-10 23:58:30] - La función sumar_pandas_series tardó 0.0082 segundos con n=5000000\n",
      "[2023-10-10 23:58:30] - La función sumar_polars_series tardó 0.26986 segundos con n=5000000\n"
     ]
    }
   ],
   "source": [
    "for i in range(0,5):\n",
    "    for n in [10, 1000, 10000, 100000, 1000000, 5000000]:\n",
    "        sumar_lista(n)\n",
    "        sumar_tupla(n)\n",
    "        sumar_objeto(n)\n",
    "        sumar_usando_yield(n)\n",
    "        sumar_conjunto(n)\n",
    "        sumar_valores_diccionario(n)\n",
    "        sumar_numpy_array(n)\n",
    "        sumar_pandas_series(n)\n",
    "        sumar_polars_series(n)"
   ]
  },
  {
   "cell_type": "markdown",
   "metadata": {},
   "source": [
    "# Tarea Yield"
   ]
  },
  {
   "cell_type": "markdown",
   "metadata": {},
   "source": [
    "Investiga y explica en tus propias palabras que es un iterador y un el objeto `yield`"
   ]
  },
  {
   "cell_type": "markdown",
   "metadata": {},
   "source": [
    "Explicacion:"
   ]
  },
  {
   "cell_type": "code",
   "execution_count": null,
   "metadata": {},
   "outputs": [],
   "source": []
  }
 ],
 "metadata": {
  "kernelspec": {
   "display_name": "itam",
   "language": "python",
   "name": "python3"
  },
  "language_info": {
   "codemirror_mode": {
    "name": "ipython",
    "version": 3
   },
   "file_extension": ".py",
   "mimetype": "text/x-python",
   "name": "python",
   "nbconvert_exporter": "python",
   "pygments_lexer": "ipython3",
   "version": "3.11.0"
  },
  "orig_nbformat": 4
 },
 "nbformat": 4,
 "nbformat_minor": 2
}
