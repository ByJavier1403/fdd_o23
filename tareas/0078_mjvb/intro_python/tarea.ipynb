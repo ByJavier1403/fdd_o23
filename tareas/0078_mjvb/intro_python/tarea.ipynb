{
 "cells": [
  {
   "cell_type": "markdown",
   "metadata": {},
   "source": [
    "Antes de hacer algo asegurate de hacer pull del repo de la clase, crear un nuevo branch, copiar esta carpeta a tu carepta de tareas y trabajar sobre ella.  \n",
    "Cuando acabes has git add, commit y pull request a los archivos que modificaste.  \n",
    "Valor de la tarea es de 20 puntos y se entrega el siguiente lunes por la mannana."
   ]
  },
  {
   "cell_type": "markdown",
   "metadata": {},
   "source": [
    "Hay un requirement.txt que puedes utilizar."
   ]
  },
  {
   "cell_type": "markdown",
   "metadata": {},
   "source": [
    "# Tarea: Registro de Actividades con Decoradores y Clases\n",
    "\n"
   ]
  },
  {
   "cell_type": "markdown",
   "metadata": {},
   "source": [
    "Objetivo: Crear un sistema que registre las actividades de una clase Usuario en un archivo de texto."
   ]
  },
  {
   "cell_type": "markdown",
   "metadata": {},
   "source": [
    "## Instrucciones:\n",
    "\n"
   ]
  },
  {
   "cell_type": "markdown",
   "metadata": {},
   "source": [
    "Define un decorador llamado `registrar_actividad` que, cuando se aplique a un método, registre la actividad en un archivo llamado `registro.txt`. La actividad debe tener el formato: \"`[FECHA Y HORA]` - Se ejecutó el método `[NOMBRE DEL MÉTODO]` con los argumentos: `[ARGUMENTOS]`\".\n",
    "\n",
    "Crea una clase llamada Usuario con los siguientes métodos:\n",
    "        `crear(nombre, apellido)`: establece el nombre y apellido del usuario.\n",
    "        `obtener_info()`: devuelve el nombre y apellido del usuario.\n",
    "        `modificar(nombre, apellido)`: modifica el nombre y apellido del usuario.\n",
    "\n",
    "Asegúrate de aplicar el decorador `registrar_actividad` a estos métodos.\n",
    "\n",
    "Implementa la lógica para registrar la actividad utilizando el contexto with para manejar el archivo `registro.txt`."
   ]
  },
  {
   "cell_type": "markdown",
   "metadata": {},
   "source": [
    "Ejemplo de uso:"
   ]
  },
  {
   "cell_type": "markdown",
   "metadata": {},
   "source": [
    "```usuario = Usuario()\n",
    "usuario.crear(\"Ms\", \"Kobayashi\")\n",
    "info = usuario.obtener_info()\n",
    "usuario.modificar(\"Tohru\", \"Kobayashi\")\n",
    "```"
   ]
  },
  {
   "cell_type": "markdown",
   "metadata": {},
   "source": [
    "```\n",
    "[2023-10-05 10:10:10] - Se ejecutó el método crear con los argumentos: ('Ms', 'Kobayashi')\n",
    "[2023-10-05 10:10:15] - Se ejecutó el método obtener_info con los argumentos: ()\n",
    "[2023-10-05 10:10:20] - Se ejecutó el método modificar con los argumentos: ('Tohru', 'Kobayashi')\n",
    "```\n"
   ]
  },
  {
   "cell_type": "markdown",
   "metadata": {},
   "source": [
    "Sugerencias"
   ]
  },
  {
   "cell_type": "markdown",
   "metadata": {},
   "source": [
    "Sugerencias:\n",
    "\n",
    "    Utiliza el módulo datetime para obtener la fecha y hora actual cuando registres una actividad.\n",
    "    En el decorador, usa func.__name__ para obtener el nombre del método que estás registrando."
   ]
  },
  {
   "cell_type": "markdown",
   "metadata": {},
   "source": [
    "## Codigo"
   ]
  },
  {
   "cell_type": "code",
   "execution_count": 29,
   "metadata": {},
   "outputs": [
    {
     "name": "stdout",
     "output_type": "stream",
     "text": [
      "['Juan', 'Peres']\n",
      "['Juan', 'Perez']\n"
     ]
    }
   ],
   "source": [
    "import datetime\n",
    "\n",
    "def registrar_actividad(func):\n",
    "    def envoltorio(*args, **kwargs):\n",
    "        now = datetime.datetime.now()\n",
    "        res = func(*args, **kwargs)\n",
    "        #Estas lineas son para probar el decorador sin necesidad de abrir registro.txt\n",
    "        #print(now)\n",
    "        #print(f\"Se ejecuto {func.__name__} con los argumentos {args} , {kwargs}\")\n",
    "        with open('registro.txt', 'a') as file:\n",
    "            file.write(f\"\\n {now} - Se ejecuto {func.__name__} con los argumentos {args} , {kwargs}\")   # Escribe la primera línea\n",
    "        return res\n",
    "    return envoltorio\n",
    "\n",
    "class Usuario:\n",
    "    def __init__(self,nom,ape):\n",
    "        self.nombre=nom\n",
    "        self.apellido=ape\n",
    "    # no hice una función crear pq lo considero cotra intuitivo, para eso es el costructor\n",
    "     \n",
    "    @registrar_actividad\n",
    "    def obtener_info(self):\n",
    "        return([self.nombre, self.apellido])\n",
    "   \n",
    "    @registrar_actividad\n",
    "    def modificar(self, nom, ape):\n",
    "        self.nombre=nom\n",
    "        self.apellido=ape\n",
    "        \n",
    "#pruba de funcionamiento clase Usuario\n",
    "usuario = Usuario(\"Juan\",\"Peres\")\n",
    "info = usuario.obtener_info()\n",
    "print(info)\n",
    "usuario.modificar(\"Juan\", \"Perez\")\n",
    "info = usuario.obtener_info()\n",
    "print(info)\n",
    "\n",
    "    \n",
    "            \n",
    "    "
   ]
  },
  {
   "cell_type": "code",
   "execution_count": null,
   "metadata": {},
   "outputs": [],
   "source": []
  },
  {
   "cell_type": "markdown",
   "metadata": {},
   "source": [
    "# Tarea: Evaluación de Tiempos de Ejecución"
   ]
  },
  {
   "cell_type": "markdown",
   "metadata": {},
   "source": [
    "Objetivo: Utilizar un decorador para medir y registrar los tiempos de ejecución de diversas operaciones en Python, y guardar los resultados en un archivo llamado tiempos.txt."
   ]
  },
  {
   "cell_type": "markdown",
   "metadata": {},
   "source": [
    "## Instrucciones"
   ]
  },
  {
   "cell_type": "markdown",
   "metadata": {},
   "source": [
    "Define un decorador llamado medir_tiempo que registre el tiempo que tarda en ejecutarse la función decorada. El decorador debe escribir el tiempo de ejecución, junto con el nombre de la función, y el tamano del arreglo, en el archivo tiempos.txt, **separados por comas**. Basicamente un `csv` donde se guarden los tiempos de ejecucion.  \n",
    "\n",
    "La primera linea del archivo debe de representar el nombre de las columnas, las siguientes lineas representan las observaciones:\n",
    "`funcion,n,tiempo`."
   ]
  },
  {
   "cell_type": "markdown",
   "metadata": {},
   "source": [
    "Ejecuta las funciones con diferentes valores de n = [10, 1000, 10000, 100000, 1000000, 5000000] para generar datos en tiempos.txt.  \n",
    "Corre cada funcion al menos unas 5 veces para cada tamanno del arreglo. Asegurate de no sobreescribir el archivo txt para que no se elimine la ejecucion."
   ]
  },
  {
   "cell_type": "markdown",
   "metadata": {},
   "source": [
    "## Ejemplo de Uso"
   ]
  },
  {
   "cell_type": "markdown",
   "metadata": {},
   "source": [
    "```\n",
    "iterar_lista(10000)\n",
    "iterar_tupla(10000)\n",
    "iterar_objeto(10000)\n",
    "usar_yield(10000)\n",
    "\n",
    "```"
   ]
  },
  {
   "cell_type": "markdown",
   "metadata": {},
   "source": [
    "```\n",
    "[2023-10-05 10:10:10] - La función iterar_lista tardó 0.00123 segundos con n=10000\n",
    "[2023-10-05 10:10:11] - La función iterar_tupla tardó 0.00120 segundos con n=10000\n",
    "[2023-10-05 10:10:12] - La función iterar_objeto tardó 0.00543 segundos con n=10000\n",
    "[2023-10-05 10:10:13] - La función usar_yield tardó 0.00093 segundos con n=10000\n",
    "\n",
    "```"
   ]
  },
  {
   "cell_type": "markdown",
   "metadata": {},
   "source": [
    "```\n",
    "tiempos.txt:\n",
    "funcion,n,tiempo,\n",
    "asd,1000,10\n",
    "```"
   ]
  },
  {
   "cell_type": "markdown",
   "metadata": {},
   "source": [
    "## Codigo"
   ]
  },
  {
   "cell_type": "code",
   "execution_count": 2,
   "metadata": {},
   "outputs": [],
   "source": [
    "import time\n",
    "import datetime\n",
    "import numpy as np\n",
    "import pandas as pd\n",
    "import polars as pl\n",
    "\n",
    "def medir_tiempo(func):\n",
    "    def envoltorio(*args, **kwargs):\n",
    "        inicio = time.time()\n",
    "        func(*args,**kwargs)\n",
    "        fin = time.time()\n",
    "        now = datetime.datetime.now()\n",
    "        now = now.strftime(\"[%Y-%m-%d %H:%M:%S]\")\n",
    "        nombre = func.__name__\n",
    "        cantidad = args[0]\n",
    "        tiempo = round(fin-inicio,5)\n",
    "        print(f\"{now} - La función {nombre} tardó {tiempo} segundos con n={cantidad}\")\n",
    "        with open('tiempos.txt', 'a') as file:\n",
    "            file.write(f\"\\n {nombre}, {cantidad}, {tiempo}\")\n",
    "        return None\n",
    "    return envoltorio\n",
    "\n",
    "\n",
    "@medir_tiempo\n",
    "def sumar_lista(n):\n",
    "    lista = [i for i in range(n)]\n",
    "    return sum(lista)\n",
    "\n",
    "@medir_tiempo\n",
    "def sumar_tupla(n):\n",
    "    tupla = tuple(i for i in range(n))\n",
    "    return sum(tupla)\n",
    "\n",
    "@medir_tiempo\n",
    "def sumar_objeto(n):\n",
    "    class ClaseEjemplo:\n",
    "        def __init__(self, numero):\n",
    "            self.numero = numero\n",
    "            \n",
    "    objetos = [ClaseEjemplo(i) for i in range(n)]\n",
    "    return sum(obj.numero for obj in objetos)\n",
    "\n",
    "@medir_tiempo\n",
    "def sumar_usando_yield(n):\n",
    "    def generador():\n",
    "        for i in range(n):\n",
    "            yield i\n",
    "            \n",
    "    return sum(generador())\n",
    "\n",
    "@medir_tiempo\n",
    "def sumar_conjunto(n):\n",
    "    conjunto = set(range(n))\n",
    "    return sum(conjunto)\n",
    "\n",
    "@medir_tiempo\n",
    "def sumar_valores_diccionario(n):\n",
    "    diccionario = {i: i for i in range(n)}\n",
    "    return sum(diccionario.values())\n",
    "\n",
    "@medir_tiempo\n",
    "def sumar_numpy_array(n):\n",
    "    array = np.arange(n)\n",
    "    return np.sum(array)\n",
    "\n",
    "@medir_tiempo\n",
    "def sumar_pandas_series(n):\n",
    "    serie = pd.Series(range(n))\n",
    "    return serie.sum()\n",
    "\n",
    "@medir_tiempo\n",
    "def sumar_polars_series(n):\n",
    "    serie = pl.Series(\"valores\", list(range(n)))\n",
    "    return serie.sum()\n"
   ]
  },
  {
   "cell_type": "code",
   "execution_count": 3,
   "metadata": {},
   "outputs": [
    {
     "name": "stdout",
     "output_type": "stream",
     "text": [
      "[2023-10-15 22:55:24] - La función sumar_lista tardó 0.0 segundos con n=10\n",
      "[2023-10-15 22:55:24] - La función sumar_tupla tardó 8e-05 segundos con n=10\n",
      "[2023-10-15 22:55:24] - La función sumar_objeto tardó 6e-05 segundos con n=10\n",
      "[2023-10-15 22:55:24] - La función sumar_usando_yield tardó 2e-05 segundos con n=10\n",
      "[2023-10-15 22:55:24] - La función sumar_conjunto tardó 1e-05 segundos con n=10\n",
      "[2023-10-15 22:55:24] - La función sumar_valores_diccionario tardó 2e-05 segundos con n=10\n",
      "[2023-10-15 22:55:24] - La función sumar_numpy_array tardó 0.00067 segundos con n=10\n",
      "[2023-10-15 22:55:24] - La función sumar_pandas_series tardó 0.00604 segundos con n=10\n",
      "[2023-10-15 22:55:24] - La función sumar_polars_series tardó 0.00156 segundos con n=10\n",
      "[2023-10-15 22:55:24] - La función sumar_lista tardó 0.00037 segundos con n=1000\n",
      "[2023-10-15 22:55:24] - La función sumar_tupla tardó 0.00012 segundos con n=1000\n",
      "[2023-10-15 22:55:24] - La función sumar_objeto tardó 0.00147 segundos con n=1000\n",
      "[2023-10-15 22:55:24] - La función sumar_usando_yield tardó 7e-05 segundos con n=1000\n",
      "[2023-10-15 22:55:24] - La función sumar_conjunto tardó 6e-05 segundos con n=1000\n",
      "[2023-10-15 22:55:24] - La función sumar_valores_diccionario tardó 0.0001 segundos con n=1000\n",
      "[2023-10-15 22:55:24] - La función sumar_numpy_array tardó 6e-05 segundos con n=1000\n",
      "[2023-10-15 22:55:24] - La función sumar_pandas_series tardó 0.00037 segundos con n=1000\n",
      "[2023-10-15 22:55:24] - La función sumar_polars_series tardó 0.00016 segundos con n=1000\n",
      "[2023-10-15 22:55:24] - La función sumar_lista tardó 0.00171 segundos con n=10000\n",
      "[2023-10-15 22:55:24] - La función sumar_tupla tardó 0.00121 segundos con n=10000\n",
      "[2023-10-15 22:55:24] - La función sumar_objeto tardó 0.12719 segundos con n=10000\n",
      "[2023-10-15 22:55:24] - La función sumar_usando_yield tardó 0.00064 segundos con n=10000\n",
      "[2023-10-15 22:55:24] - La función sumar_conjunto tardó 0.00078 segundos con n=10000\n",
      "[2023-10-15 22:55:24] - La función sumar_valores_diccionario tardó 0.00107 segundos con n=10000\n",
      "[2023-10-15 22:55:24] - La función sumar_numpy_array tardó 0.00016 segundos con n=10000\n",
      "[2023-10-15 22:55:24] - La función sumar_pandas_series tardó 0.00031 segundos con n=10000\n",
      "[2023-10-15 22:55:24] - La función sumar_polars_series tardó 0.00085 segundos con n=10000\n",
      "[2023-10-15 22:55:24] - La función sumar_lista tardó 0.00864 segundos con n=100000\n",
      "[2023-10-15 22:55:24] - La función sumar_tupla tardó 0.01037 segundos con n=100000\n",
      "[2023-10-15 22:55:24] - La función sumar_objeto tardó 0.17627 segundos con n=100000\n",
      "[2023-10-15 22:55:24] - La función sumar_usando_yield tardó 0.01007 segundos con n=100000\n",
      "[2023-10-15 22:55:24] - La función sumar_conjunto tardó 0.02081 segundos con n=100000\n",
      "[2023-10-15 22:55:24] - La función sumar_valores_diccionario tardó 0.02747 segundos con n=100000\n",
      "[2023-10-15 22:55:24] - La función sumar_numpy_array tardó 0.00121 segundos con n=100000\n",
      "[2023-10-15 22:55:24] - La función sumar_pandas_series tardó 0.00046 segundos con n=100000\n",
      "[2023-10-15 22:55:24] - La función sumar_polars_series tardó 0.01151 segundos con n=100000\n",
      "[2023-10-15 22:55:25] - La función sumar_lista tardó 0.12428 segundos con n=1000000\n",
      "[2023-10-15 22:55:25] - La función sumar_tupla tardó 0.11565 segundos con n=1000000\n",
      "[2023-10-15 22:55:27] - La función sumar_objeto tardó 1.96068 segundos con n=1000000\n",
      "[2023-10-15 22:55:27] - La función sumar_usando_yield tardó 0.07397 segundos con n=1000000\n",
      "[2023-10-15 22:55:27] - La función sumar_conjunto tardó 0.14046 segundos con n=1000000\n",
      "[2023-10-15 22:55:27] - La función sumar_valores_diccionario tardó 0.20062 segundos con n=1000000\n",
      "[2023-10-15 22:55:27] - La función sumar_numpy_array tardó 0.00962 segundos con n=1000000\n",
      "[2023-10-15 22:55:27] - La función sumar_pandas_series tardó 0.00423 segundos con n=1000000\n",
      "[2023-10-15 22:55:27] - La función sumar_polars_series tardó 0.09089 segundos con n=1000000\n",
      "[2023-10-15 22:55:28] - La función sumar_lista tardó 0.72355 segundos con n=5000000\n",
      "[2023-10-15 22:55:28] - La función sumar_tupla tardó 0.56344 segundos con n=5000000\n",
      "[2023-10-15 22:55:36] - La función sumar_objeto tardó 7.04644 segundos con n=5000000\n",
      "[2023-10-15 22:55:36] - La función sumar_usando_yield tardó 0.46109 segundos con n=5000000\n",
      "[2023-10-15 22:55:37] - La función sumar_conjunto tardó 0.69658 segundos con n=5000000\n",
      "[2023-10-15 22:55:38] - La función sumar_valores_diccionario tardó 1.02517 segundos con n=5000000\n",
      "[2023-10-15 22:55:38] - La función sumar_numpy_array tardó 0.04237 segundos con n=5000000\n",
      "[2023-10-15 22:55:38] - La función sumar_pandas_series tardó 0.01566 segundos con n=5000000\n",
      "[2023-10-15 22:55:39] - La función sumar_polars_series tardó 0.84341 segundos con n=5000000\n",
      "[2023-10-15 22:55:39] - La función sumar_lista tardó 1e-05 segundos con n=10\n",
      "[2023-10-15 22:55:39] - La función sumar_tupla tardó 2e-05 segundos con n=10\n",
      "[2023-10-15 22:55:39] - La función sumar_objeto tardó 4e-05 segundos con n=10\n",
      "[2023-10-15 22:55:39] - La función sumar_usando_yield tardó 1e-05 segundos con n=10\n",
      "[2023-10-15 22:55:39] - La función sumar_conjunto tardó 1e-05 segundos con n=10\n",
      "[2023-10-15 22:55:39] - La función sumar_valores_diccionario tardó 1e-05 segundos con n=10\n",
      "[2023-10-15 22:55:39] - La función sumar_numpy_array tardó 7e-05 segundos con n=10\n",
      "[2023-10-15 22:55:39] - La función sumar_pandas_series tardó 0.00042 segundos con n=10\n",
      "[2023-10-15 22:55:39] - La función sumar_polars_series tardó 0.00015 segundos con n=10\n",
      "[2023-10-15 22:55:39] - La función sumar_lista tardó 0.00011 segundos con n=1000\n",
      "[2023-10-15 22:55:39] - La función sumar_tupla tardó 0.00023 segundos con n=1000\n",
      "[2023-10-15 22:55:39] - La función sumar_objeto tardó 0.00102 segundos con n=1000\n",
      "[2023-10-15 22:55:39] - La función sumar_usando_yield tardó 0.0002 segundos con n=1000\n",
      "[2023-10-15 22:55:39] - La función sumar_conjunto tardó 0.0001 segundos con n=1000\n",
      "[2023-10-15 22:55:39] - La función sumar_valores_diccionario tardó 0.00026 segundos con n=1000\n",
      "[2023-10-15 22:55:39] - La función sumar_numpy_array tardó 0.00011 segundos con n=1000\n",
      "[2023-10-15 22:55:39] - La función sumar_pandas_series tardó 0.00066 segundos con n=1000\n",
      "[2023-10-15 22:55:39] - La función sumar_polars_series tardó 0.00028 segundos con n=1000\n",
      "[2023-10-15 22:55:39] - La función sumar_lista tardó 0.0008 segundos con n=10000\n",
      "[2023-10-15 22:55:39] - La función sumar_tupla tardó 0.00105 segundos con n=10000\n",
      "[2023-10-15 22:55:39] - La función sumar_objeto tardó 0.0065 segundos con n=10000\n",
      "[2023-10-15 22:55:39] - La función sumar_usando_yield tardó 0.00101 segundos con n=10000\n",
      "[2023-10-15 22:55:39] - La función sumar_conjunto tardó 0.00119 segundos con n=10000\n",
      "[2023-10-15 22:55:39] - La función sumar_valores_diccionario tardó 0.00221 segundos con n=10000\n",
      "[2023-10-15 22:55:39] - La función sumar_numpy_array tardó 0.00014 segundos con n=10000\n",
      "[2023-10-15 22:55:39] - La función sumar_pandas_series tardó 0.00046 segundos con n=10000\n",
      "[2023-10-15 22:55:39] - La función sumar_polars_series tardó 0.00091 segundos con n=10000\n",
      "[2023-10-15 22:55:39] - La función sumar_lista tardó 0.00687 segundos con n=100000\n",
      "[2023-10-15 22:55:39] - La función sumar_tupla tardó 0.01225 segundos con n=100000\n",
      "[2023-10-15 22:55:39] - La función sumar_objeto tardó 0.11219 segundos con n=100000\n",
      "[2023-10-15 22:55:39] - La función sumar_usando_yield tardó 0.01879 segundos con n=100000\n",
      "[2023-10-15 22:55:39] - La función sumar_conjunto tardó 0.01956 segundos con n=100000\n",
      "[2023-10-15 22:55:39] - La función sumar_valores_diccionario tardó 0.04934 segundos con n=100000\n",
      "[2023-10-15 22:55:39] - La función sumar_numpy_array tardó 0.00021 segundos con n=100000\n",
      "[2023-10-15 22:55:39] - La función sumar_pandas_series tardó 0.00079 segundos con n=100000\n",
      "[2023-10-15 22:55:39] - La función sumar_polars_series tardó 0.0184 segundos con n=100000\n",
      "[2023-10-15 22:55:39] - La función sumar_lista tardó 0.08366 segundos con n=1000000\n",
      "[2023-10-15 22:55:39] - La función sumar_tupla tardó 0.09341 segundos con n=1000000\n",
      "[2023-10-15 22:55:41] - La función sumar_objeto tardó 1.47852 segundos con n=1000000\n",
      "[2023-10-15 22:55:41] - La función sumar_usando_yield tardó 0.07069 segundos con n=1000000\n",
      "[2023-10-15 22:55:41] - La función sumar_conjunto tardó 0.17523 segundos con n=1000000\n",
      "[2023-10-15 22:55:41] - La función sumar_valores_diccionario tardó 0.22805 segundos con n=1000000\n",
      "[2023-10-15 22:55:41] - La función sumar_numpy_array tardó 0.00576 segundos con n=1000000\n",
      "[2023-10-15 22:55:41] - La función sumar_pandas_series tardó 0.00295 segundos con n=1000000\n",
      "[2023-10-15 22:55:41] - La función sumar_polars_series tardó 0.07798 segundos con n=1000000\n",
      "[2023-10-15 22:55:42] - La función sumar_lista tardó 0.44019 segundos con n=5000000\n",
      "[2023-10-15 22:55:42] - La función sumar_tupla tardó 0.52772 segundos con n=5000000\n",
      "[2023-10-15 22:55:48] - La función sumar_objeto tardó 5.71127 segundos con n=5000000\n",
      "[2023-10-15 22:55:48] - La función sumar_usando_yield tardó 0.34082 segundos con n=5000000\n",
      "[2023-10-15 22:55:49] - La función sumar_conjunto tardó 0.54038 segundos con n=5000000\n",
      "[2023-10-15 22:55:49] - La función sumar_valores_diccionario tardó 0.77116 segundos con n=5000000\n",
      "[2023-10-15 22:55:50] - La función sumar_numpy_array tardó 0.02824 segundos con n=5000000\n",
      "[2023-10-15 22:55:50] - La función sumar_pandas_series tardó 0.01174 segundos con n=5000000\n",
      "[2023-10-15 22:55:50] - La función sumar_polars_series tardó 0.38588 segundos con n=5000000\n",
      "[2023-10-15 22:55:50] - La función sumar_lista tardó 7e-05 segundos con n=10\n",
      "[2023-10-15 22:55:50] - La función sumar_tupla tardó 1e-05 segundos con n=10\n",
      "[2023-10-15 22:55:50] - La función sumar_objeto tardó 4e-05 segundos con n=10\n",
      "[2023-10-15 22:55:50] - La función sumar_usando_yield tardó 1e-05 segundos con n=10\n",
      "[2023-10-15 22:55:50] - La función sumar_conjunto tardó 0.0 segundos con n=10\n",
      "[2023-10-15 22:55:50] - La función sumar_valores_diccionario tardó 1e-05 segundos con n=10\n",
      "[2023-10-15 22:55:50] - La función sumar_numpy_array tardó 6e-05 segundos con n=10\n",
      "[2023-10-15 22:55:50] - La función sumar_pandas_series tardó 0.0003 segundos con n=10\n",
      "[2023-10-15 22:55:50] - La función sumar_polars_series tardó 0.0001 segundos con n=10\n",
      "[2023-10-15 22:55:50] - La función sumar_lista tardó 6e-05 segundos con n=1000\n",
      "[2023-10-15 22:55:50] - La función sumar_tupla tardó 8e-05 segundos con n=1000\n",
      "[2023-10-15 22:55:50] - La función sumar_objeto tardó 0.00051 segundos con n=1000\n",
      "[2023-10-15 22:55:50] - La función sumar_usando_yield tardó 7e-05 segundos con n=1000\n",
      "[2023-10-15 22:55:50] - La función sumar_conjunto tardó 5e-05 segundos con n=1000\n",
      "[2023-10-15 22:55:50] - La función sumar_valores_diccionario tardó 0.00023 segundos con n=1000\n",
      "[2023-10-15 22:55:50] - La función sumar_numpy_array tardó 0.0001 segundos con n=1000\n",
      "[2023-10-15 22:55:50] - La función sumar_pandas_series tardó 0.00034 segundos con n=1000\n",
      "[2023-10-15 22:55:50] - La función sumar_polars_series tardó 0.00034 segundos con n=1000\n",
      "[2023-10-15 22:55:50] - La función sumar_lista tardó 0.00125 segundos con n=10000\n",
      "[2023-10-15 22:55:50] - La función sumar_tupla tardó 0.00101 segundos con n=10000\n",
      "[2023-10-15 22:55:50] - La función sumar_objeto tardó 0.00561 segundos con n=10000\n",
      "[2023-10-15 22:55:50] - La función sumar_usando_yield tardó 0.00068 segundos con n=10000\n",
      "[2023-10-15 22:55:50] - La función sumar_conjunto tardó 0.00114 segundos con n=10000\n",
      "[2023-10-15 22:55:50] - La función sumar_valores_diccionario tardó 0.00116 segundos con n=10000\n",
      "[2023-10-15 22:55:50] - La función sumar_numpy_array tardó 7e-05 segundos con n=10000\n",
      "[2023-10-15 22:55:50] - La función sumar_pandas_series tardó 0.00031 segundos con n=10000\n",
      "[2023-10-15 22:55:50] - La función sumar_polars_series tardó 0.00064 segundos con n=10000\n",
      "[2023-10-15 22:55:50] - La función sumar_lista tardó 0.00736 segundos con n=100000\n",
      "[2023-10-15 22:55:50] - La función sumar_tupla tardó 0.00847 segundos con n=100000\n",
      "[2023-10-15 22:55:50] - La función sumar_objeto tardó 0.05208 segundos con n=100000\n",
      "[2023-10-15 22:55:50] - La función sumar_usando_yield tardó 0.00716 segundos con n=100000\n",
      "[2023-10-15 22:55:50] - La función sumar_conjunto tardó 0.00933 segundos con n=100000\n",
      "[2023-10-15 22:55:50] - La función sumar_valores_diccionario tardó 0.01422 segundos con n=100000\n",
      "[2023-10-15 22:55:50] - La función sumar_numpy_array tardó 0.0002 segundos con n=100000\n",
      "[2023-10-15 22:55:50] - La función sumar_pandas_series tardó 0.00039 segundos con n=100000\n",
      "[2023-10-15 22:55:50] - La función sumar_polars_series tardó 0.00573 segundos con n=100000\n",
      "[2023-10-15 22:55:50] - La función sumar_lista tardó 0.0734 segundos con n=1000000\n",
      "[2023-10-15 22:55:50] - La función sumar_tupla tardó 0.09604 segundos con n=1000000\n",
      "[2023-10-15 22:55:52] - La función sumar_objeto tardó 1.3246 segundos con n=1000000\n",
      "[2023-10-15 22:55:52] - La función sumar_usando_yield tardó 0.07307 segundos con n=1000000\n",
      "[2023-10-15 22:55:52] - La función sumar_conjunto tardó 0.10774 segundos con n=1000000\n",
      "[2023-10-15 22:55:52] - La función sumar_valores_diccionario tardó 0.15949 segundos con n=1000000\n",
      "[2023-10-15 22:55:52] - La función sumar_numpy_array tardó 0.0056 segundos con n=1000000\n",
      "[2023-10-15 22:55:52] - La función sumar_pandas_series tardó 0.0028 segundos con n=1000000\n",
      "[2023-10-15 22:55:52] - La función sumar_polars_series tardó 0.07504 segundos con n=1000000\n",
      "[2023-10-15 22:55:52] - La función sumar_lista tardó 0.41439 segundos con n=5000000\n",
      "[2023-10-15 22:55:53] - La función sumar_tupla tardó 0.53483 segundos con n=5000000\n",
      "[2023-10-15 22:55:59] - La función sumar_objeto tardó 6.50565 segundos con n=5000000\n",
      "[2023-10-15 22:56:00] - La función sumar_usando_yield tardó 0.49389 segundos con n=5000000\n",
      "[2023-10-15 22:56:00] - La función sumar_conjunto tardó 0.56659 segundos con n=5000000\n",
      "[2023-10-15 22:56:01] - La función sumar_valores_diccionario tardó 0.99296 segundos con n=5000000\n",
      "[2023-10-15 22:56:02] - La función sumar_numpy_array tardó 0.05016 segundos con n=5000000\n",
      "[2023-10-15 22:56:02] - La función sumar_pandas_series tardó 0.02199 segundos con n=5000000\n",
      "[2023-10-15 22:56:02] - La función sumar_polars_series tardó 0.54975 segundos con n=5000000\n",
      "[2023-10-15 22:56:02] - La función sumar_lista tardó 1e-05 segundos con n=10\n",
      "[2023-10-15 22:56:02] - La función sumar_tupla tardó 1e-05 segundos con n=10\n",
      "[2023-10-15 22:56:02] - La función sumar_objeto tardó 5e-05 segundos con n=10\n",
      "[2023-10-15 22:56:02] - La función sumar_usando_yield tardó 1e-05 segundos con n=10\n",
      "[2023-10-15 22:56:02] - La función sumar_conjunto tardó 1e-05 segundos con n=10\n",
      "[2023-10-15 22:56:02] - La función sumar_valores_diccionario tardó 1e-05 segundos con n=10\n",
      "[2023-10-15 22:56:02] - La función sumar_numpy_array tardó 0.00018 segundos con n=10\n",
      "[2023-10-15 22:56:02] - La función sumar_pandas_series tardó 0.00036 segundos con n=10\n",
      "[2023-10-15 22:56:02] - La función sumar_polars_series tardó 8e-05 segundos con n=10\n",
      "[2023-10-15 22:56:02] - La función sumar_lista tardó 7e-05 segundos con n=1000\n",
      "[2023-10-15 22:56:02] - La función sumar_tupla tardó 8e-05 segundos con n=1000\n",
      "[2023-10-15 22:56:02] - La función sumar_objeto tardó 0.00058 segundos con n=1000\n",
      "[2023-10-15 22:56:02] - La función sumar_usando_yield tardó 7e-05 segundos con n=1000\n",
      "[2023-10-15 22:56:02] - La función sumar_conjunto tardó 5e-05 segundos con n=1000\n",
      "[2023-10-15 22:56:02] - La función sumar_valores_diccionario tardó 0.00022 segundos con n=1000\n",
      "[2023-10-15 22:56:02] - La función sumar_numpy_array tardó 5e-05 segundos con n=1000\n",
      "[2023-10-15 22:56:02] - La función sumar_pandas_series tardó 0.0003 segundos con n=1000\n",
      "[2023-10-15 22:56:02] - La función sumar_polars_series tardó 0.00015 segundos con n=1000\n",
      "[2023-10-15 22:56:02] - La función sumar_lista tardó 0.00072 segundos con n=10000\n",
      "[2023-10-15 22:56:02] - La función sumar_tupla tardó 0.0013 segundos con n=10000\n",
      "[2023-10-15 22:56:02] - La función sumar_objeto tardó 0.00558 segundos con n=10000\n",
      "[2023-10-15 22:56:02] - La función sumar_usando_yield tardó 0.00072 segundos con n=10000\n",
      "[2023-10-15 22:56:02] - La función sumar_conjunto tardó 0.00109 segundos con n=10000\n",
      "[2023-10-15 22:56:02] - La función sumar_valores_diccionario tardó 0.00162 segundos con n=10000\n",
      "[2023-10-15 22:56:02] - La función sumar_numpy_array tardó 9e-05 segundos con n=10000\n",
      "[2023-10-15 22:56:02] - La función sumar_pandas_series tardó 0.00033 segundos con n=10000\n",
      "[2023-10-15 22:56:02] - La función sumar_polars_series tardó 0.00066 segundos con n=10000\n",
      "[2023-10-15 22:56:02] - La función sumar_lista tardó 0.00626 segundos con n=100000\n",
      "[2023-10-15 22:56:02] - La función sumar_tupla tardó 0.00879 segundos con n=100000\n",
      "[2023-10-15 22:56:02] - La función sumar_objeto tardó 0.05159 segundos con n=100000\n",
      "[2023-10-15 22:56:02] - La función sumar_usando_yield tardó 0.00673 segundos con n=100000\n",
      "[2023-10-15 22:56:02] - La función sumar_conjunto tardó 0.01353 segundos con n=100000\n",
      "[2023-10-15 22:56:02] - La función sumar_valores_diccionario tardó 0.01521 segundos con n=100000\n",
      "[2023-10-15 22:56:02] - La función sumar_numpy_array tardó 0.00026 segundos con n=100000\n",
      "[2023-10-15 22:56:02] - La función sumar_pandas_series tardó 0.00047 segundos con n=100000\n",
      "[2023-10-15 22:56:02] - La función sumar_polars_series tardó 0.01431 segundos con n=100000\n",
      "[2023-10-15 22:56:02] - La función sumar_lista tardó 0.09089 segundos con n=1000000\n",
      "[2023-10-15 22:56:03] - La función sumar_tupla tardó 0.1949 segundos con n=1000000\n",
      "[2023-10-15 22:56:04] - La función sumar_objeto tardó 1.6899 segundos con n=1000000\n",
      "[2023-10-15 22:56:04] - La función sumar_usando_yield tardó 0.06841 segundos con n=1000000\n",
      "[2023-10-15 22:56:04] - La función sumar_conjunto tardó 0.11166 segundos con n=1000000\n",
      "[2023-10-15 22:56:05] - La función sumar_valores_diccionario tardó 0.1609 segundos con n=1000000\n",
      "[2023-10-15 22:56:05] - La función sumar_numpy_array tardó 0.00558 segundos con n=1000000\n",
      "[2023-10-15 22:56:05] - La función sumar_pandas_series tardó 0.00272 segundos con n=1000000\n",
      "[2023-10-15 22:56:05] - La función sumar_polars_series tardó 0.0727 segundos con n=1000000\n",
      "[2023-10-15 22:56:05] - La función sumar_lista tardó 0.42419 segundos con n=5000000\n",
      "[2023-10-15 22:56:06] - La función sumar_tupla tardó 0.60875 segundos con n=5000000\n",
      "[2023-10-15 22:56:13] - La función sumar_objeto tardó 6.89064 segundos con n=5000000\n",
      "[2023-10-15 22:56:13] - La función sumar_usando_yield tardó 0.51467 segundos con n=5000000\n",
      "[2023-10-15 22:56:14] - La función sumar_conjunto tardó 0.68401 segundos con n=5000000\n",
      "[2023-10-15 22:56:15] - La función sumar_valores_diccionario tardó 0.91859 segundos con n=5000000\n",
      "[2023-10-15 22:56:15] - La función sumar_numpy_array tardó 0.03128 segundos con n=5000000\n",
      "[2023-10-15 22:56:15] - La función sumar_pandas_series tardó 0.01239 segundos con n=5000000\n",
      "[2023-10-15 22:56:15] - La función sumar_polars_series tardó 0.44128 segundos con n=5000000\n",
      "[2023-10-15 22:56:15] - La función sumar_lista tardó 1e-05 segundos con n=10\n",
      "[2023-10-15 22:56:15] - La función sumar_tupla tardó 1e-05 segundos con n=10\n",
      "[2023-10-15 22:56:15] - La función sumar_objeto tardó 4e-05 segundos con n=10\n",
      "[2023-10-15 22:56:15] - La función sumar_usando_yield tardó 1e-05 segundos con n=10\n",
      "[2023-10-15 22:56:15] - La función sumar_conjunto tardó 1e-05 segundos con n=10\n",
      "[2023-10-15 22:56:15] - La función sumar_valores_diccionario tardó 1e-05 segundos con n=10\n",
      "[2023-10-15 22:56:15] - La función sumar_numpy_array tardó 6e-05 segundos con n=10\n",
      "[2023-10-15 22:56:15] - La función sumar_pandas_series tardó 0.00029 segundos con n=10\n",
      "[2023-10-15 22:56:15] - La función sumar_polars_series tardó 9e-05 segundos con n=10\n",
      "[2023-10-15 22:56:15] - La función sumar_lista tardó 7e-05 segundos con n=1000\n",
      "[2023-10-15 22:56:15] - La función sumar_tupla tardó 8e-05 segundos con n=1000\n",
      "[2023-10-15 22:56:15] - La función sumar_objeto tardó 0.00048 segundos con n=1000\n",
      "[2023-10-15 22:56:15] - La función sumar_usando_yield tardó 7e-05 segundos con n=1000\n",
      "[2023-10-15 22:56:15] - La función sumar_conjunto tardó 5e-05 segundos con n=1000\n",
      "[2023-10-15 22:56:15] - La función sumar_valores_diccionario tardó 0.00021 segundos con n=1000\n",
      "[2023-10-15 22:56:15] - La función sumar_numpy_array tardó 4e-05 segundos con n=1000\n",
      "[2023-10-15 22:56:15] - La función sumar_pandas_series tardó 0.00024 segundos con n=1000\n",
      "[2023-10-15 22:56:15] - La función sumar_polars_series tardó 0.00018 segundos con n=1000\n",
      "[2023-10-15 22:56:15] - La función sumar_lista tardó 0.00057 segundos con n=10000\n",
      "[2023-10-15 22:56:15] - La función sumar_tupla tardó 0.00152 segundos con n=10000\n",
      "[2023-10-15 22:56:15] - La función sumar_objeto tardó 0.00917 segundos con n=10000\n",
      "[2023-10-15 22:56:15] - La función sumar_usando_yield tardó 0.00074 segundos con n=10000\n",
      "[2023-10-15 22:56:15] - La función sumar_conjunto tardó 0.00156 segundos con n=10000\n",
      "[2023-10-15 22:56:15] - La función sumar_valores_diccionario tardó 0.00132 segundos con n=10000\n",
      "[2023-10-15 22:56:15] - La función sumar_numpy_array tardó 9e-05 segundos con n=10000\n",
      "[2023-10-15 22:56:15] - La función sumar_pandas_series tardó 0.00124 segundos con n=10000\n",
      "[2023-10-15 22:56:15] - La función sumar_polars_series tardó 0.00123 segundos con n=10000\n",
      "[2023-10-15 22:56:15] - La función sumar_lista tardó 0.00983 segundos con n=100000\n",
      "[2023-10-15 22:56:15] - La función sumar_tupla tardó 0.01042 segundos con n=100000\n",
      "[2023-10-15 22:56:15] - La función sumar_objeto tardó 0.05978 segundos con n=100000\n",
      "[2023-10-15 22:56:15] - La función sumar_usando_yield tardó 0.00887 segundos con n=100000\n",
      "[2023-10-15 22:56:15] - La función sumar_conjunto tardó 0.01076 segundos con n=100000\n",
      "[2023-10-15 22:56:15] - La función sumar_valores_diccionario tardó 0.02047 segundos con n=100000\n",
      "[2023-10-15 22:56:15] - La función sumar_numpy_array tardó 0.00018 segundos con n=100000\n",
      "[2023-10-15 22:56:15] - La función sumar_pandas_series tardó 0.00047 segundos con n=100000\n",
      "[2023-10-15 22:56:15] - La función sumar_polars_series tardó 0.01364 segundos con n=100000\n",
      "[2023-10-15 22:56:15] - La función sumar_lista tardó 0.07288 segundos con n=1000000\n",
      "[2023-10-15 22:56:16] - La función sumar_tupla tardó 0.10972 segundos con n=1000000\n",
      "[2023-10-15 22:56:17] - La función sumar_objeto tardó 1.27785 segundos con n=1000000\n",
      "[2023-10-15 22:56:17] - La función sumar_usando_yield tardó 0.07793 segundos con n=1000000\n",
      "[2023-10-15 22:56:17] - La función sumar_conjunto tardó 0.1286 segundos con n=1000000\n",
      "[2023-10-15 22:56:17] - La función sumar_valores_diccionario tardó 0.15582 segundos con n=1000000\n",
      "[2023-10-15 22:56:17] - La función sumar_numpy_array tardó 0.00537 segundos con n=1000000\n",
      "[2023-10-15 22:56:17] - La función sumar_pandas_series tardó 0.00271 segundos con n=1000000\n",
      "[2023-10-15 22:56:17] - La función sumar_polars_series tardó 0.06909 segundos con n=1000000\n",
      "[2023-10-15 22:56:18] - La función sumar_lista tardó 0.42936 segundos con n=5000000\n",
      "[2023-10-15 22:56:18] - La función sumar_tupla tardó 0.60187 segundos con n=5000000\n",
      "[2023-10-15 22:56:26] - La función sumar_objeto tardó 7.437 segundos con n=5000000\n",
      "[2023-10-15 22:56:26] - La función sumar_usando_yield tardó 0.3848 segundos con n=5000000\n",
      "[2023-10-15 22:56:27] - La función sumar_conjunto tardó 0.67909 segundos con n=5000000\n",
      "[2023-10-15 22:56:28] - La función sumar_valores_diccionario tardó 1.17999 segundos con n=5000000\n",
      "[2023-10-15 22:56:28] - La función sumar_numpy_array tardó 0.04025 segundos con n=5000000\n",
      "[2023-10-15 22:56:28] - La función sumar_pandas_series tardó 0.01761 segundos con n=5000000\n",
      "[2023-10-15 22:56:29] - La función sumar_polars_series tardó 0.51466 segundos con n=5000000\n"
     ]
    }
   ],
   "source": [
    "for i in range(0,5):\n",
    "    for n in [10, 1000, 10000, 100000, 1000000, 5000000]:\n",
    "        sumar_lista(n)\n",
    "        sumar_tupla(n)\n",
    "        sumar_objeto(n)\n",
    "        sumar_usando_yield(n)\n",
    "        sumar_conjunto(n)\n",
    "        sumar_valores_diccionario(n)\n",
    "        sumar_numpy_array(n)\n",
    "        sumar_pandas_series(n)\n",
    "        sumar_polars_series(n)"
   ]
  },
  {
   "cell_type": "markdown",
   "metadata": {},
   "source": [
    "# Tarea Yield"
   ]
  },
  {
   "cell_type": "markdown",
   "metadata": {},
   "source": [
    "Investiga y explica en tus propias palabras que es un iterador y un el objeto `yield`"
   ]
  },
  {
   "cell_type": "markdown",
   "metadata": {},
   "source": [
    "Explicacion:"
   ]
  },
  {
   "cell_type": "code",
   "execution_count": null,
   "metadata": {},
   "outputs": [],
   "source": [
    "\"\"\"\n",
    "Un yield es un generador que sirve para dividir las tareas de manera\n",
    "que no se ejecuta todo al mismo tiempo sino que va de acuerdo a como se lo pidas\n",
    "esto es util para operaciones muy largas :) asi no te friegas la compu\n",
    "\"\"\""
   ]
  }
 ],
 "metadata": {
  "kernelspec": {
   "display_name": "itam",
   "language": "python",
   "name": "python3"
  },
  "language_info": {
   "codemirror_mode": {
    "name": "ipython",
    "version": 3
   },
   "file_extension": ".py",
   "mimetype": "text/x-python",
   "name": "python",
   "nbconvert_exporter": "python",
   "pygments_lexer": "ipython3",
   "version": "3.10.9"
  },
  "orig_nbformat": 4
 },
 "nbformat": 4,
 "nbformat_minor": 2
}
